{
 "cells": [
  {
   "cell_type": "code",
   "execution_count": 1,
   "metadata": {},
   "outputs": [
    {
     "name": "stderr",
     "output_type": "stream",
     "text": [
      "c:\\users\\rchamchong\\appdata\\local\\programs\\python\\python35\\lib\\site-packages\\h5py\\__init__.py:34: FutureWarning: Conversion of the second argument of issubdtype from `float` to `np.floating` is deprecated. In future, it will be treated as `np.float64 == np.dtype(float).type`.\n",
      "  from ._conv import register_converters as _register_converters\n",
      "Using TensorFlow backend.\n"
     ]
    }
   ],
   "source": [
    "##!/usr/bin/python -tt \n",
    "# -*- coding: utf-8 -*-\n",
    "\n",
    "import os\n",
    "#from os.path import join\n",
    "#import sys\n",
    "import glob\n",
    "import numpy as np\n",
    "import matplotlib.pyplot as plt\n",
    "import cv2\n",
    "\n",
    "import errno\n",
    "import time\n",
    "import random\n",
    "from sklearn.model_selection import train_test_split\n",
    "from sklearn.metrics import precision_score, recall_score, f1_score, cohen_kappa_score\n",
    "\n",
    "from collections import Counter\n",
    "#from keras.callbacks import CSVLogger\n",
    "import keras\n",
    "from keras.models import Sequential\n",
    "from keras.layers import Dense, Dropout, Flatten\n",
    "from keras.layers import Conv2D, MaxPooling2D\n",
    "from keras import backend as K\n",
    "\n",
    "#from keras.utils.vis_utils import plot_model\n",
    "from matplotlib.backends.backend_pdf import PdfPages\n",
    "from contextlib import redirect_stdout"
   ]
  },
  {
   "cell_type": "code",
   "execution_count": 2,
   "metadata": {},
   "outputs": [
    {
     "name": "stdout",
     "output_type": "stream",
     "text": [
      "['b๐', 'b๑', 'b๒', 'b๓', 'b๔', 'b๕', 'b๖', 'b๗', 'b๘', 'b๙']\n",
      "C:/Python-DL/Numeric//b๐/*.txt\n",
      "C:/Python-DL/Numeric//b๑/*.txt\n",
      "C:/Python-DL/Numeric//b๒/*.txt\n",
      "C:/Python-DL/Numeric//b๓/*.txt\n",
      "C:/Python-DL/Numeric//b๔/*.txt\n",
      "C:/Python-DL/Numeric//b๕/*.txt\n",
      "C:/Python-DL/Numeric//b๖/*.txt\n",
      "C:/Python-DL/Numeric//b๗/*.txt\n",
      "C:/Python-DL/Numeric//b๘/*.txt\n",
      "C:/Python-DL/Numeric//b๙/*.txt\n",
      "['.ipynb_checkpoints', 'Numeric', 'Result']\n",
      "C:/Python-DL/Numeric//.ipynb_checkpoints/*.txt\n",
      "C:/Python-DL/Numeric//Numeric/*.txt\n",
      "C:/Python-DL/Numeric//Result/*.txt\n",
      "Counter({'๘': 56, '๙': 56, '๕': 56, '๗': 56, '๓': 56, '๖': 56, '๐': 56, '๑': 56, '๒': 56, '๔': 56})\n",
      "{'๙', '๑', '๘', '๒', '๐', '๕', '๗', '๓', '๖', '๔'}\n",
      "['๐', '๑', '๒', '๓', '๔', '๕', '๖', '๗', '๘', '๙']\n",
      "Letters: ๐ ๑ ๒ ๓ ๔ ๕ ๖ ๗ ๘ ๙\n",
      "['๐', '๑', '๒', '๓', '๔', '๕', '๖', '๗', '๘', '๙']\n",
      "A number of classes= 10\n"
     ]
    }
   ],
   "source": [
    "def generate_code(path):\n",
    "#    os.chdir(path)\n",
    "    letters = ''\n",
    "\n",
    "    for root, dirs, files in os.walk('.', topdown = False):\n",
    "        if len(dirs)>0:\n",
    "            print(dirs)\n",
    "            for d in dirs:\n",
    "                path1=path+'/'+d+'/*.txt'\n",
    "#                path1=os.path.join(path,d)\n",
    "                print(path1)\n",
    "                fi = glob.glob(path1)\n",
    "#                print(fi)\n",
    "                for name in fi :\n",
    "#                    print(name)\n",
    "                    with open(name,'r',encoding='utf-8') as f1:\n",
    "                        transcript = f1.read()\n",
    "                        letters += transcript\n",
    "#    print(letters)            \n",
    "    return Counter(letters) #this function \n",
    "\n",
    "path='C:/Python-DL/Numeric/'\n",
    "c_train=generate_code(path)\n",
    "print(c_train)\n",
    "letters_train = set(c_train.keys())\n",
    "print(letters_train)\n",
    "letters=sorted(list(letters_train))\n",
    "print(letters)\n",
    "print('Letters:', ' '.join(letters))\n",
    "\n",
    "print(letters)\n",
    "num_classes=len(letters)\n",
    "\n",
    "print('A number of classes=',num_classes)"
   ]
  },
  {
   "cell_type": "code",
   "execution_count": 3,
   "metadata": {},
   "outputs": [
    {
     "name": "stdout",
     "output_type": "stream",
     "text": [
      "please wait processing...\n",
      "C:/Python-DL/Numeric//.ipynb_checkpoints/*.png\n",
      "C:/Python-DL/Numeric//Numeric/*.png\n",
      "C:/Python-DL/Numeric//Result/*.png\n",
      "C:/Python-DL/Numeric//b๐/*.png\n",
      "Filename:a005_208.png\n",
      "Label: ๐\n",
      "\n"
     ]
    },
    {
     "data": {
      "image/png": "[encoded data removed]",
      "text/plain": [
       "<Figure size 72x72 with 1 Axes>"
      ]
     },
     "metadata": {},
     "output_type": "display_data"
    },
    {
     "name": "stdout",
     "output_type": "stream",
     "text": [
      "Filename:a015_112.png\n",
      "Label: ๐\n",
      "\n"
     ]
    },
    {
     "data": {
      "image/png": "[encoded data removed]",
      "text/plain": [
       "<Figure size 72x72 with 1 Axes>"
      ]
     },
     "metadata": {},
     "output_type": "display_data"
    },
    {
     "name": "stdout",
     "output_type": "stream",
     "text": [
      "Filename:a025_317.png\n",
      "Label: ๐\n",
      "\n"
     ]
    },
    {
     "data": {
      "image/png": "[encoded data removed]",
      "text/plain": [
       "<Figure size 72x72 with 1 Axes>"
      ]
     },
     "metadata": {},
     "output_type": "display_data"
    },
    {
     "name": "stdout",
     "output_type": "stream",
     "text": [
      "C:/Python-DL/Numeric//b๑/*.png\n",
      "Filename:a005_69.png\n",
      "Label: ๑\n",
      "\n"
     ]
    },
    {
     "data": {
      "image/png": "[encoded data removed]",
      "text/plain": [
       "<Figure size 72x72 with 1 Axes>"
      ]
     },
     "metadata": {},
     "output_type": "display_data"
    },
    {
     "name": "stdout",
     "output_type": "stream",
     "text": [
      "Filename:a010_299.png\n",
      "Label: ๑\n",
      "\n"
     ]
    },
    {
     "data": {
      "image/png": "[encoded data removed]",
      "text/plain": [
       "<Figure size 72x72 with 1 Axes>"
      ]
     },
     "metadata": {},
     "output_type": "display_data"
    },
    {
     "name": "stdout",
     "output_type": "stream",
     "text": [
      "Filename:a015_98.png\n",
      "Label: ๑\n",
      "\n"
     ]
    },
    {
     "data": {
      "image/png": "[encoded data removed]",
      "text/plain": [
       "<Figure size 72x72 with 1 Axes>"
      ]
     },
     "metadata": {},
     "output_type": "display_data"
    },
    {
     "name": "stdout",
     "output_type": "stream",
     "text": [
      "C:/Python-DL/Numeric//b๒/*.png\n",
      "Filename:a005_50.png\n",
      "Label: ๒\n",
      "\n"
     ]
    },
    {
     "data": {
      "image/png": "[encoded data removed]",
      "text/plain": [
       "<Figure size 72x72 with 1 Axes>"
      ]
     },
     "metadata": {},
     "output_type": "display_data"
    },
    {
     "name": "stdout",
     "output_type": "stream",
     "text": [
      "Filename:a010_211.png\n",
      "Label: ๒\n",
      "\n"
     ]
    },
    {
     "data": {
      "image/png": "[encoded data removed]",
      "text/plain": [
       "<Figure size 72x72 with 1 Axes>"
      ]
     },
     "metadata": {},
     "output_type": "display_data"
    },
    {
     "name": "stdout",
     "output_type": "stream",
     "text": [
      "Filename:a015_267.png\n",
      "Label: ๒\n",
      "\n"
     ]
    },
    {
     "data": {
      "image/png": "[encoded data removed]",
      "text/plain": [
       "<Figure size 72x72 with 1 Axes>"
      ]
     },
     "metadata": {},
     "output_type": "display_data"
    },
    {
     "name": "stdout",
     "output_type": "stream",
     "text": [
      "C:/Python-DL/Numeric//b๓/*.png\n",
      "Filename:a005_361.png\n",
      "Label: ๓\n",
      "\n"
     ]
    },
    {
     "data": {
      "image/png": "[encoded data removed]",
      "text/plain": [
       "<Figure size 72x72 with 1 Axes>"
      ]
     },
     "metadata": {},
     "output_type": "display_data"
    },
    {
     "name": "stdout",
     "output_type": "stream",
     "text": [
      "Filename:a015_66.png\n",
      "Label: ๓\n",
      "\n"
     ]
    },
    {
     "data": {
      "image/png": "[encoded data removed]",
      "text/plain": [
       "<Figure size 72x72 with 1 Axes>"
      ]
     },
     "metadata": {},
     "output_type": "display_data"
    },
    {
     "name": "stdout",
     "output_type": "stream",
     "text": [
      "Filename:a040_9.png\n",
      "Label: ๓\n",
      "\n"
     ]
    },
    {
     "data": {
      "image/png": "[encoded data removed]",
      "text/plain": [
       "<Figure size 72x72 with 1 Axes>"
      ]
     },
     "metadata": {},
     "output_type": "display_data"
    },
    {
     "name": "stdout",
     "output_type": "stream",
     "text": [
      "C:/Python-DL/Numeric//b๔/*.png\n",
      "Filename:a005_253.png\n",
      "Label: ๔\n",
      "\n"
     ]
    },
    {
     "data": {
      "image/png": "[encoded data removed]",
      "text/plain": [
       "<Figure size 72x72 with 1 Axes>"
      ]
     },
     "metadata": {},
     "output_type": "display_data"
    },
    {
     "name": "stdout",
     "output_type": "stream",
     "text": [
      "Filename:a005_400.png\n",
      "Label: ๔\n",
      "\n"
     ]
    },
    {
     "data": {
      "image/png": "[encoded data removed]",
      "text/plain": [
       "<Figure size 72x72 with 1 Axes>"
      ]
     },
     "metadata": {},
     "output_type": "display_data"
    },
    {
     "name": "stdout",
     "output_type": "stream",
     "text": [
      "Filename:a010_127.png\n",
      "Label: ๔\n",
      "\n"
     ]
    },
    {
     "data": {
      "image/png": "[encoded data removed]",
      "text/plain": [
       "<Figure size 72x72 with 1 Axes>"
      ]
     },
     "metadata": {},
     "output_type": "display_data"
    },
    {
     "name": "stdout",
     "output_type": "stream",
     "text": [
      "C:/Python-DL/Numeric//b๕/*.png\n",
      "Filename:a005_109.png\n",
      "Label: ๕\n",
      "\n"
     ]
    },
    {
     "data": {
      "image/png": "[encoded data removed]",
      "text/plain": [
       "<Figure size 72x72 with 1 Axes>"
      ]
     },
     "metadata": {},
     "output_type": "display_data"
    },
    {
     "name": "stdout",
     "output_type": "stream",
     "text": [
      "Filename:a010_217.png\n",
      "Label: ๕\n",
      "\n"
     ]
    },
    {
     "data": {
      "image/png": "[encoded data removed]",
      "text/plain": [
       "<Figure size 72x72 with 1 Axes>"
      ]
     },
     "metadata": {},
     "output_type": "display_data"
    },
    {
     "name": "stdout",
     "output_type": "stream",
     "text": [
      "Filename:a015_355.png\n",
      "Label: ๕\n",
      "\n"
     ]
    },
    {
     "data": {
      "image/png": "[encoded data removed]",
      "text/plain": [
       "<Figure size 72x72 with 1 Axes>"
      ]
     },
     "metadata": {},
     "output_type": "display_data"
    },
    {
     "name": "stdout",
     "output_type": "stream",
     "text": [
      "C:/Python-DL/Numeric//b๖/*.png\n",
      "Filename:a010_150.png\n",
      "Label: ๖\n",
      "\n"
     ]
    },
    {
     "data": {
      "image/png": "[encoded data removed]",
      "text/plain": [
       "<Figure size 72x72 with 1 Axes>"
      ]
     },
     "metadata": {},
     "output_type": "display_data"
    },
    {
     "name": "stdout",
     "output_type": "stream",
     "text": [
      "Filename:a010_56.png\n",
      "Label: ๖\n",
      "\n"
     ]
    },
    {
     "data": {
      "image/png": "[encoded data removed]",
      "text/plain": [
       "<Figure size 72x72 with 1 Axes>"
      ]
     },
     "metadata": {},
     "output_type": "display_data"
    },
    {
     "name": "stdout",
     "output_type": "stream",
     "text": [
      "Filename:a015_230.png\n",
      "Label: ๖\n",
      "\n"
     ]
    },
    {
     "data": {
      "image/png": "[encoded data removed]",
      "text/plain": [
       "<Figure size 72x72 with 1 Axes>"
      ]
     },
     "metadata": {},
     "output_type": "display_data"
    },
    {
     "name": "stdout",
     "output_type": "stream",
     "text": [
      "C:/Python-DL/Numeric//b๗/*.png\n",
      "Filename:a005_432.png\n",
      "Label: ๗\n",
      "\n"
     ]
    },
    {
     "data": {
      "image/png": "[encoded data removed]",
      "text/plain": [
       "<Figure size 72x72 with 1 Axes>"
      ]
     },
     "metadata": {},
     "output_type": "display_data"
    },
    {
     "name": "stdout",
     "output_type": "stream",
     "text": [
      "Filename:a010_258.png\n",
      "Label: ๗\n",
      "\n"
     ]
    },
    {
     "data": {
      "image/png": "[encoded data removed]",
      "text/plain": [
       "<Figure size 72x72 with 1 Axes>"
      ]
     },
     "metadata": {},
     "output_type": "display_data"
    },
    {
     "name": "stdout",
     "output_type": "stream",
     "text": [
      "Filename:a015_354.png\n",
      "Label: ๗\n",
      "\n"
     ]
    },
    {
     "data": {
      "image/png": "[encoded data removed]",
      "text/plain": [
       "<Figure size 72x72 with 1 Axes>"
      ]
     },
     "metadata": {},
     "output_type": "display_data"
    },
    {
     "name": "stdout",
     "output_type": "stream",
     "text": [
      "C:/Python-DL/Numeric//b๘/*.png\n",
      "Filename:a005_401.png\n",
      "Label: ๘\n",
      "\n"
     ]
    },
    {
     "data": {
      "image/png": "[encoded data removed]",
      "text/plain": [
       "<Figure size 72x72 with 1 Axes>"
      ]
     },
     "metadata": {},
     "output_type": "display_data"
    },
    {
     "name": "stdout",
     "output_type": "stream",
     "text": [
      "Filename:a010_123.png\n",
      "Label: ๘\n",
      "\n"
     ]
    },
    {
     "data": {
      "image/png": "[encoded data removed]",
      "text/plain": [
       "<Figure size 72x72 with 1 Axes>"
      ]
     },
     "metadata": {},
     "output_type": "display_data"
    },
    {
     "name": "stdout",
     "output_type": "stream",
     "text": [
      "Filename:a010_262.png\n",
      "Label: ๘\n",
      "\n"
     ]
    },
    {
     "data": {
      "image/png": "[encoded data removed]",
      "text/plain": [
       "<Figure size 72x72 with 1 Axes>"
      ]
     },
     "metadata": {},
     "output_type": "display_data"
    },
    {
     "name": "stdout",
     "output_type": "stream",
     "text": [
      "C:/Python-DL/Numeric//b๙/*.png\n",
      "Filename:a005_502.png\n",
      "Label: ๙\n",
      "\n"
     ]
    },
    {
     "data": {
      "image/png": "[encoded data removed]",
      "text/plain": [
       "<Figure size 72x72 with 1 Axes>"
      ]
     },
     "metadata": {},
     "output_type": "display_data"
    },
    {
     "name": "stdout",
     "output_type": "stream",
     "text": [
      "Filename:a005_54.png\n",
      "Label: ๙\n",
      "\n"
     ]
    },
    {
     "data": {
      "image/png": "[encoded data removed]",
      "text/plain": [
       "<Figure size 72x72 with 1 Axes>"
      ]
     },
     "metadata": {},
     "output_type": "display_data"
    },
    {
     "name": "stdout",
     "output_type": "stream",
     "text": [
      "Filename:a025_92.png\n",
      "Label: ๙\n",
      "\n"
     ]
    },
    {
     "data": {
      "image/png": "[encoded data removed]",
      "text/plain": [
       "<Figure size 72x72 with 1 Axes>"
      ]
     },
     "metadata": {},
     "output_type": "display_data"
    },
    {
     "name": "stdout",
     "output_type": "stream",
     "text": [
      "560\n"
     ]
    }
   ],
   "source": [
    "def loadImageFolder(path,H,W,cl_name): \n",
    "    print('please wait processing...')\n",
    "    data=[]\n",
    "    label=[]\n",
    "    for root, dirs, files in os.walk(\".\"):\n",
    "#        data=np.zeros((filesize,H,W), np.uint\n",
    "#        label=np.zeros((filesize), np.uint)\n",
    "        if len(dirs)>0:\n",
    "            for d in dirs:\n",
    "                path1=path+'/'+d+'/*.png'\n",
    "                print(path1)\n",
    "                fi = glob.glob(path1)\n",
    "\n",
    "                for i,name in enumerate(fi):\n",
    "                    try:\n",
    "                        pathIn, finame = os.path.split(name) #pathIn = pathfile, finame=file.xxx\n",
    "                        fname=os.path.splitext(finame)[0] #fi=filename without .xxx\n",
    "                        n=np.fromfile(name,np.uint8)\n",
    "#                       img = cv2.imread(name,0) # read image file , 0=Grayscale\n",
    "                        img=cv2.imdecode(n,0)\n",
    "                        resized_img=cv2.resize(img,(H,W),interpolation=cv2.INTER_CUBIC)\n",
    "                        img = resized_img.astype(np.float32)\n",
    "                        img /= 255.0\n",
    "                        data.append(np.asarray(img))\n",
    "                        fileGT=pathIn+'/'+fname+'.gt.txt'\n",
    "\n",
    "                        with open(fileGT, \"r\", encoding=\"utf-8\") as f1:\n",
    "                            txt=f1.read()\n",
    "                            label.append(txt)\n",
    "#                            label.append(np.uint(cl_name.index(f1.read())))\n",
    "                    \n",
    "                        if i<3:\n",
    "                            plt.figure(figsize=(1, 1))\n",
    "                            plt.imshow(img, cmap='gray')\n",
    "                            print('Filename:%s\\nLabel: %s\\n' % (finame, txt))\n",
    "                            plt.show()\n",
    "                            \n",
    "                    except IOError as exc: #Not sure what error this is\n",
    "                        if exc.errno != errno.EISDIR:\n",
    "                            raise\n",
    "\n",
    "    return data, label\n",
    "\n",
    "# input image dimensions\n",
    "img_rows, img_cols = 64, 64\n",
    "data,label=loadImageFolder(path, img_cols, img_rows, letters)\n",
    "print(len(label))"
   ]
  },
  {
   "cell_type": "code",
   "execution_count": 4,
   "metadata": {},
   "outputs": [
    {
     "name": "stdout",
     "output_type": "stream",
     "text": [
      "358\n",
      "please wait processing...\n",
      "(358, 64, 64)\n",
      "['๙' '๕' '๐' '๗' '๓' '๖' '๐' '๕' '๗' '๔' '๘' '๐' '๑' '๙' '๖' '๓' '๑' '๗'\n",
      " '๓' '๘' '๕' '๗' '๓' '๔' '๐' '๕' '๕' '๘' '๒' '๒' '๔' '๖' '๘' '๐' '๗' '๔'\n",
      " '๕' '๔' '๕' '๐' '๐' '๔' '๑' '๘' '๑' '๔' '๖' '๖' '๙' '๒' '๗' '๑' '๗' '๖'\n",
      " '๗' '๕' '๐' '๙' '๐' '๐' '๑' '๑' '๐' '๔' '๒' '๕' '๙' '๘' '๙' '๐' '๖' '๓'\n",
      " '๗' '๓' '๒' '๐' '๑' '๖' '๗' '๖' '๔' '๒' '๔' '๐' '๒' '๐' '๒' '๘' '๓' '๘'\n",
      " '๐' '๘' '๗' '๒' '๓' '๗' '๒' '๑' '๕' '๗' '๕' '๐' '๕' '๐' '๓' '๗' '๖' '๗'\n",
      " '๔' '๙' '๖' '๙']\n"
     ]
    }
   ],
   "source": [
    "def generateEvaluationGraph(history,i):\n",
    "    # Loss curves\n",
    "    f,(ax1,ax2)=plt.subplots(1,2,figsize=(16,6))    \n",
    "    f.suptitle('Fold: '+str(i),fontsize=18)\n",
    "    ax1.plot(history.history['loss'],'r',linewidth=3.0)\n",
    "    ax1.plot(history.history['val_loss'],'b',linewidth=3.0)\n",
    "    ax1.legend(['Training set', 'Validation set'],fontsize=16)\n",
    "    ax1.set_xlabel('Epochs ',fontsize=16)\n",
    "    ax1.set_ylabel('Loss',fontsize=16)\n",
    "    ax1.set_title('Loss Curves',fontsize=16)\n",
    " \n",
    "    # Accuracy Curves\n",
    "    ax2.plot(history.history['acc'],'r',linewidth=3.0)\n",
    "    ax2.plot(history.history['val_acc'],'b',linewidth=3.0)\n",
    "    ax2.legend(['Training set', 'Validation set'],fontsize=16)\n",
    "    ax2.set_xlabel('Epochs ',fontsize=16)\n",
    "    ax2.set_ylabel('Accuracy',fontsize=16)\n",
    "    ax2.set_title('Accuracy Curves',fontsize=16)\n",
    "    return f\n",
    "###================== creat Basic CNN\n",
    "def creatModel(model,input_shape):  \n",
    "    model.add(Conv2D(32, kernel_size=(3, 3), activation='relu', input_shape=input_shape))\n",
    "    model.add(MaxPooling2D(pool_size=(2, 2),strides=2))\n",
    "\n",
    "    model.add(Conv2D(64, (3, 3), activation='relu') )\n",
    "    model.add(MaxPooling2D(pool_size=(2, 2),strides=2))\n",
    "\n",
    "    #model.add(Dropout(0.25))\n",
    "    # fully connected dense layers\n",
    "    model.add(Flatten())\n",
    "    model.add(Dense(128, activation='relu'))\n",
    "    model.add(Dropout(0.4))\n",
    "    model.add(Dense(num_classes, activation='softmax'))\n",
    "    return model\n",
    "\n",
    "###=========================== main\n",
    "xdata_train, x_test, ydata_train, y_test = train_test_split(data, label, test_size=0.2)\n",
    "x_train, x_valid, y_train, y_valid = train_test_split(xdata_train, ydata_train, test_size=0.2)\n",
    "\n",
    "print(len(x_train))\n",
    "print('please wait processing...')\n",
    "x_train=np.asarray(x_train)\n",
    "x_valid=np.asarray(x_valid)\n",
    "x_test=np.asarray(x_test)\n",
    "y_train=np.asarray(y_train)\n",
    "y_valid=np.asarray(y_valid)\n",
    "y_test=np.asarray(y_test)\n",
    "print(x_train.shape)\n",
    "print(y_test)"
   ]
  },
  {
   "cell_type": "code",
   "execution_count": 5,
   "metadata": {},
   "outputs": [
    {
     "name": "stdout",
     "output_type": "stream",
     "text": [
      "(358, 64, 64, 1)\n",
      "[[0. 0. 0. ... 0. 0. 1.]\n",
      " [0. 0. 0. ... 0. 0. 0.]\n",
      " [1. 0. 0. ... 0. 0. 0.]\n",
      " ...\n",
      " [0. 0. 0. ... 0. 0. 1.]\n",
      " [0. 0. 0. ... 0. 0. 0.]\n",
      " [0. 0. 0. ... 0. 0. 1.]]\n",
      "(112, 10)\n"
     ]
    }
   ],
   "source": [
    "if K.image_data_format() == 'channels_first':\n",
    "    x_train = x_train.reshape(x_train.shape[0], 1, img_rows, img_cols)\n",
    "    x_valid = x_valid.reshape(x_valid.shape[0], 1, img_rows, img_cols)\n",
    "    x_test = x_test.reshape(x_test.shape[0], 1, img_rows, img_cols)\n",
    "    input_shape = (1, img_rows, img_cols)\n",
    "else:\n",
    "    x_train = x_train.reshape(x_train.shape[0], img_rows, img_cols, 1)\n",
    "    x_valid = x_valid.reshape(x_valid.shape[0], img_rows, img_cols, 1)\n",
    "    x_test = x_test.reshape(x_test.shape[0], img_rows, img_cols, 1)\n",
    "    input_shape = (img_rows, img_cols, 1)\n",
    "print(x_train.shape)\n",
    "# convert class vectors to binary class matrices\n",
    "y_train = keras.utils.to_categorical(y_train)\n",
    "y_valid = keras.utils.to_categorical(y_valid)\n",
    "y_test = keras.utils.to_categorical(y_test)\n",
    "print(y_test)\n",
    "\n",
    "print(y_test.shape)"
   ]
  },
  {
   "cell_type": "code",
   "execution_count": 6,
   "metadata": {},
   "outputs": [
    {
     "name": "stdout",
     "output_type": "stream",
     "text": [
      "_________________________________________________________________\n",
      "Layer (type)                 Output Shape              Param #   \n",
      "=================================================================\n",
      "conv2d_1 (Conv2D)            (None, 62, 62, 32)        320       \n",
      "_________________________________________________________________\n",
      "max_pooling2d_1 (MaxPooling2 (None, 31, 31, 32)        0         \n",
      "_________________________________________________________________\n",
      "conv2d_2 (Conv2D)            (None, 29, 29, 64)        18496     \n",
      "_________________________________________________________________\n",
      "max_pooling2d_2 (MaxPooling2 (None, 14, 14, 64)        0         \n",
      "_________________________________________________________________\n",
      "flatten_1 (Flatten)          (None, 12544)             0         \n",
      "_________________________________________________________________\n",
      "dense_1 (Dense)              (None, 128)               1605760   \n",
      "_________________________________________________________________\n",
      "dropout_1 (Dropout)          (None, 128)               0         \n",
      "_________________________________________________________________\n",
      "dense_2 (Dense)              (None, 10)                1290      \n",
      "=================================================================\n",
      "Total params: 1,625,866\n",
      "Trainable params: 1,625,866\n",
      "Non-trainable params: 0\n",
      "_________________________________________________________________\n"
     ]
    }
   ],
   "source": [
    "\n",
    "# fix random seed for reproducibility\n",
    "seed = 7\n",
    "np.random.seed(seed)\n",
    "### start session\n",
    "session_config = K.tf.ConfigProto(log_device_placement=False, allow_soft_placement=True)    \n",
    "# please do not use the totality of the GPU memory\n",
    "session_config.gpu_options.per_process_gpu_memory_fraction = 0.90\n",
    "\n",
    "### create model\n",
    "model = Sequential()\n",
    "model = creatModel(model,input_shape)\n",
    "# Compile model\n",
    "model.compile(loss=keras.losses.categorical_crossentropy,optimizer=keras.optimizers.Adam(),\n",
    "    metrics=['accuracy'])\n",
    "model.summary()\n",
    "newpath='C:/Python-DL/Result/'\n",
    "if not os.path.exists(newpath):\n",
    "    os.makedirs(newpath)\n",
    "#stop_here = EarlyStopping(monitor='val_loss',patience=5,verbose=0)\n",
    "#plot_model(model, to_file=newpath+'model_plot.png', show_shapes=True, show_layer_names=True)\n",
    "with open(newpath+'model_summary.txt', 'w') as f:\n",
    "    with redirect_stdout(f):\n",
    "        model.summary()\n",
    "\n",
    "fi=open(newpath+'evaluation.txt','w')"
   ]
  },
  {
   "cell_type": "code",
   "execution_count": 7,
   "metadata": {},
   "outputs": [
    {
     "name": "stdout",
     "output_type": "stream",
     "text": [
      "(358, 10)\n",
      "Train on 358 samples, validate on 90 samples\n",
      "Epoch 1/10\n",
      "358/358 [==============================] - 4s - loss: 1.9474 - acc: 0.3324 - val_loss: 0.9243 - val_acc: 0.7222\n",
      "Epoch 2/10\n",
      "358/358 [==============================] - 3s - loss: 0.7641 - acc: 0.7346 - val_loss: 0.7091 - val_acc: 0.6889\n",
      "Epoch 3/10\n",
      "358/358 [==============================] - 3s - loss: 0.4685 - acc: 0.8212 - val_loss: 0.5993 - val_acc: 0.7778\n",
      "Epoch 4/10\n",
      "358/358 [==============================] - 3s - loss: 0.3100 - acc: 0.8883 - val_loss: 0.4403 - val_acc: 0.8000\n",
      "Epoch 5/10\n",
      "358/358 [==============================] - 3s - loss: 0.2151 - acc: 0.9190 - val_loss: 0.4372 - val_acc: 0.8444\n",
      "Epoch 6/10\n",
      "358/358 [==============================] - 3s - loss: 0.1171 - acc: 0.9665 - val_loss: 0.4167 - val_acc: 0.8778\n",
      "Epoch 7/10\n",
      "358/358 [==============================] - 3s - loss: 0.1044 - acc: 0.9665 - val_loss: 0.3420 - val_acc: 0.8778\n",
      "Epoch 8/10\n",
      "358/358 [==============================] - 3s - loss: 0.0662 - acc: 0.9804 - val_loss: 0.4485 - val_acc: 0.8667\n",
      "Epoch 9/10\n",
      "358/358 [==============================] - 3s - loss: 0.0616 - acc: 0.9804 - val_loss: 0.3723 - val_acc: 0.8889\n",
      "Epoch 10/10\n",
      "358/358 [==============================] - 3s - loss: 0.0478 - acc: 0.9832 - val_loss: 0.3646 - val_acc: 0.8556\n",
      "training....\n",
      "ETA of each round=00:00:35\n",
      "\n",
      "Saved model01.h5 to disk\n",
      "90/90 [==============================] - 0s     \n",
      "\n",
      "loss: 36.46%\tacc: 85.56%\n",
      "Precision: 85.39%\n",
      "Recall: 84.97%\n",
      "F1: 84.82%\n",
      "Cohen_kappa_score: 84.01%\n"
     ]
    },
    {
     "data": {
      "image/png": "[encoded data removed]",
      "text/plain": [
       "<Figure size 1152x432 with 2 Axes>"
      ]
     },
     "metadata": {},
     "output_type": "display_data"
    }
   ],
   "source": [
    "epochs = 10\n",
    "# in 1 epoch = number of training examples/batch_size\n",
    "batch_size =16 #3008, 2048 check with the number of train instances\n",
    "start=time.time()\n",
    "print(y_train.shape)\n",
    "# Fit the model\n",
    "history=model.fit(x_train, y_train,\n",
    "                  batch_size=batch_size,epochs=epochs, verbose=1,\n",
    "                  validation_data=(x_valid, y_valid))\n",
    "print(\"training....\")\n",
    "done = time.time()\n",
    "elapsed = done - start\n",
    "print(time.strftime(\"ETA of each round=%H:%M:%S\\n\", time.gmtime(elapsed)))\n",
    "# serialize weights to HDF5\n",
    "model.save(newpath+'model01.h5')\n",
    "print(\"Saved model01.h5 to disk\")\n",
    "\n",
    "# evaluate the model\n",
    "y_pred = model.predict(x_test)\n",
    " \n",
    "score = model.evaluate(x_valid, y_valid, verbose=1)\n",
    "loss=score[0]*100\n",
    "ac=score[1]*100\n",
    "print(\"\\n%s: %.2f%%\\t%s: %.2f%%\" % (model.metrics_names[0], loss, model.metrics_names[1], ac))\n",
    " \n",
    "y_true = np.argmax(y_test,axis=1)\n",
    "y_pr = np.argmax(y_pred,axis=1)\n",
    "\n",
    "# Precision\n",
    "pr=precision_score(y_true, y_pr, average=\"macro\")*100\n",
    "print(\"Precision: %.2f%%\" % pr)\n",
    "\n",
    "# Recall\n",
    "rc=recall_score(y_true, y_pr, average=\"macro\")*100\n",
    "print(\"Recall: %.2f%%\" % rc)\n",
    "\n",
    "# F1 score\n",
    "f1=f1_score(y_true, y_pr, average=\"macro\")*100\n",
    "print(\"F1: %.2f%%\" % f1)\n",
    "\n",
    "# Cohen's kappa\n",
    "kp=cohen_kappa_score(y_true, y_pr)*100\n",
    "print(\"Cohen_kappa_score: %.2f%%\" % kp)\n",
    "\n",
    "### Confusion matrix\n",
    "#    cf=confusion_matrix(y_true, y_pr, range(0,num_classes-1) )\n",
    "#    np.set_printoptions(precision=2)\n",
    "\n",
    "#    plt.figure()\n",
    "#    fig1 = plt.gcf()\n",
    "#    fig1.set_size_inches(32, 32)\n",
    "#    plot_confusion_matrix(cf, classes=class_names,\n",
    "#                      title='Confusion matrix, without normalization',\n",
    "#                      cmap=plt.cm.cool)\n",
    "#    try:\n",
    "#        with PdfPages(newpath+'confuse%d.pdf'%i) as pdf1:\n",
    "#            pdf.savefig(fig1)\n",
    "#    except ValueError:\n",
    "#        print('error save confuse%d.pdf'%i)\n",
    "\n",
    "\n",
    "fig=generateEvaluationGraph(history,1)\n"
   ]
  },
  {
   "cell_type": "code",
   "execution_count": null,
   "metadata": {},
   "outputs": [],
   "source": []
  }
 ],
 "metadata": {
  "kernelspec": {
   "display_name": "Python 3",
   "language": "python",
   "name": "python3"
  },
  "language_info": {
   "codemirror_mode": {
    "name": "ipython",
    "version": 3
   },
   "file_extension": ".py",
   "mimetype": "text/x-python",
   "name": "python",
   "nbconvert_exporter": "python",
   "pygments_lexer": "ipython3",
   "version": "3.5.4"
  }
 },
 "nbformat": 4,
 "nbformat_minor": 2
}
