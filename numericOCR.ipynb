{
 "cells": [
  {
   "cell_type": "code",
   "execution_count": 95,
   "metadata": {},
   "outputs": [],
   "source": [
    "##!/usr/bin/python -tt \n",
    "# -*- coding: utf-8 -*-\n",
    "\n",
    "import os\n",
    "#from os.path import join\n",
    "#import sys\n",
    "import glob\n",
    "import numpy as np\n",
    "import matplotlib.pyplot as plt\n",
    "import cv2\n",
    "\n",
    "import errno\n",
    "import time\n",
    "import random\n",
    "from sklearn.model_selection import train_test_split\n",
    "from sklearn.metrics import confusion_matrix, precision_score, recall_score, f1_score, cohen_kappa_score\n",
    "\n",
    "from collections import Counter\n",
    "#from keras.callbacks import CSVLogger\n",
    "import keras\n",
    "from keras.models import Sequential\n",
    "from keras.layers import Dense, Dropout, Flatten\n",
    "from keras.layers import Conv2D, MaxPooling2D\n",
    "from keras import backend as K\n",
    "\n",
    "from keras.utils.vis_utils import plot_model\n",
    "from matplotlib.backends.backend_pdf import PdfPages\n",
    "from contextlib import redirect_stdout"
   ]
  },
  {
   "cell_type": "code",
   "execution_count": 96,
   "metadata": {},
   "outputs": [
    {
     "name": "stdout",
     "output_type": "stream",
     "text": [
      "C:/Python-DL/Numeric//b๐/*.txt\n",
      "C:/Python-DL/Numeric//b๐\\a005_208.gt.txt\n",
      "C:/Python-DL/Numeric//b๐\\a015_112.gt.txt\n",
      "C:/Python-DL/Numeric//b๐\\a025_317.gt.txt\n",
      "C:/Python-DL/Numeric//b๐\\a035_87.gt.txt\n",
      "C:/Python-DL/Numeric//b๐\\a040_262.gt.txt\n",
      "C:/Python-DL/Numeric//b๐\\a050_318.gt.txt\n",
      "C:/Python-DL/Numeric//b๐\\a055_108.gt.txt\n",
      "C:/Python-DL/Numeric//b๐\\a055_182.gt.txt\n",
      "C:/Python-DL/Numeric//b๐\\a055_54.gt.txt\n",
      "C:/Python-DL/Numeric//b๐\\a055_99.gt.txt\n",
      "C:/Python-DL/Numeric//b๐\\a060_315.gt.txt\n",
      "C:/Python-DL/Numeric//b๐\\a065_93.gt.txt\n",
      "C:/Python-DL/Numeric//b๐\\a080_83.gt.txt\n",
      "C:/Python-DL/Numeric//b๐\\a090_144.gt.txt\n",
      "C:/Python-DL/Numeric//b๐\\a090_58.gt.txt\n",
      "C:/Python-DL/Numeric//b๐\\a100_227.gt.txt\n",
      "C:/Python-DL/Numeric//b๐\\a105_48.gt.txt\n",
      "C:/Python-DL/Numeric//b๐\\a110_301.gt.txt\n",
      "C:/Python-DL/Numeric//b๐\\a115_39.gt.txt\n",
      "C:/Python-DL/Numeric//b๐\\a120_86.gt.txt\n",
      "C:/Python-DL/Numeric//b๐\\a135_227.gt.txt\n",
      "C:/Python-DL/Numeric//b๐\\a140_23.gt.txt\n",
      "C:/Python-DL/Numeric//b๐\\a150_211.gt.txt\n",
      "C:/Python-DL/Numeric//b๐\\a155_22.gt.txt\n",
      "C:/Python-DL/Numeric//b๐\\a160_75.gt.txt\n",
      "C:/Python-DL/Numeric//b๐\\a160_87.gt.txt\n",
      "C:/Python-DL/Numeric//b๐\\a175_81.gt.txt\n",
      "C:/Python-DL/Numeric//b๐\\a185_182.gt.txt\n",
      "C:/Python-DL/Numeric//b๐\\a190_125.gt.txt\n",
      "C:/Python-DL/Numeric//b๐\\a195_175.gt.txt\n",
      "C:/Python-DL/Numeric//b๐\\a200_211.gt.txt\n",
      "C:/Python-DL/Numeric//b๐\\a215_238.gt.txt\n",
      "C:/Python-DL/Numeric//b๐\\a225_29.gt.txt\n",
      "C:/Python-DL/Numeric//b๐\\a235_119.gt.txt\n",
      "C:/Python-DL/Numeric//b๐\\a255_329.gt.txt\n",
      "C:/Python-DL/Numeric//b๐\\a255_82.gt.txt\n",
      "C:/Python-DL/Numeric//b๐\\a260_218.gt.txt\n",
      "C:/Python-DL/Numeric//b๐\\a260_98.gt.txt\n",
      "C:/Python-DL/Numeric//b๐\\a275_197.gt.txt\n",
      "C:/Python-DL/Numeric//b๐\\a275_220.gt.txt\n",
      "C:/Python-DL/Numeric//b๐\\a285_374.gt.txt\n",
      "C:/Python-DL/Numeric//b๐\\a295_218.gt.txt\n",
      "C:/Python-DL/Numeric//b๐\\a295_257.gt.txt\n",
      "C:/Python-DL/Numeric//b๐\\a300_274.gt.txt\n",
      "C:/Python-DL/Numeric//b๐\\a300_306.gt.txt\n",
      "C:/Python-DL/Numeric//b๐\\a310_47.gt.txt\n",
      "C:/Python-DL/Numeric//b๐\\a320_175.gt.txt\n",
      "C:/Python-DL/Numeric//b๐\\a320_216.gt.txt\n",
      "C:/Python-DL/Numeric//b๐\\a330_66.gt.txt\n",
      "C:/Python-DL/Numeric//b๐\\a330_75.gt.txt\n",
      "C:/Python-DL/Numeric//b๐\\a335_59.gt.txt\n",
      "C:/Python-DL/Numeric//b๐\\a335_62.gt.txt\n",
      "C:/Python-DL/Numeric//b๐\\a340_43.gt.txt\n",
      "C:/Python-DL/Numeric//b๐\\a340_45.gt.txt\n",
      "C:/Python-DL/Numeric//b๐\\a345_157.gt.txt\n",
      "C:/Python-DL/Numeric//b๐\\a345_7.gt.txt\n",
      "C:/Python-DL/Numeric//b๑/*.txt\n",
      "C:/Python-DL/Numeric//b๑\\a005_69.gt.txt\n",
      "C:/Python-DL/Numeric//b๑\\a010_299.gt.txt\n",
      "C:/Python-DL/Numeric//b๑\\a015_98.gt.txt\n",
      "C:/Python-DL/Numeric//b๑\\a025_69.gt.txt\n",
      "C:/Python-DL/Numeric//b๑\\a035_25.gt.txt\n",
      "C:/Python-DL/Numeric//b๑\\a040_102.gt.txt\n",
      "C:/Python-DL/Numeric//b๑\\a045_105.gt.txt\n",
      "C:/Python-DL/Numeric//b๑\\a050_27.gt.txt\n",
      "C:/Python-DL/Numeric//b๑\\a055_34.gt.txt\n",
      "C:/Python-DL/Numeric//b๑\\a060_23.gt.txt\n",
      "C:/Python-DL/Numeric//b๑\\a065_23.gt.txt\n",
      "C:/Python-DL/Numeric//b๑\\a070_15.gt.txt\n",
      "C:/Python-DL/Numeric//b๑\\a075_53.gt.txt\n",
      "C:/Python-DL/Numeric//b๑\\a080_19.gt.txt\n",
      "C:/Python-DL/Numeric//b๑\\a085_25.gt.txt\n",
      "C:/Python-DL/Numeric//b๑\\a090_26.gt.txt\n",
      "C:/Python-DL/Numeric//b๑\\a100_20.gt.txt\n",
      "C:/Python-DL/Numeric//b๑\\a105_33.gt.txt\n",
      "C:/Python-DL/Numeric//b๑\\a110_92.gt.txt\n",
      "C:/Python-DL/Numeric//b๑\\a115_133.gt.txt\n",
      "C:/Python-DL/Numeric//b๑\\a120_35.gt.txt\n",
      "C:/Python-DL/Numeric//b๑\\a125_56.gt.txt\n",
      "C:/Python-DL/Numeric//b๑\\a130_48.gt.txt\n",
      "C:/Python-DL/Numeric//b๑\\a135_82.gt.txt\n",
      "C:/Python-DL/Numeric//b๑\\a140_221.gt.txt\n",
      "C:/Python-DL/Numeric//b๑\\a150_25.gt.txt\n",
      "C:/Python-DL/Numeric//b๑\\a155_31.gt.txt\n",
      "C:/Python-DL/Numeric//b๑\\a160_31.gt.txt\n",
      "C:/Python-DL/Numeric//b๑\\a175_32.gt.txt\n",
      "C:/Python-DL/Numeric//b๑\\a185_22.gt.txt\n",
      "C:/Python-DL/Numeric//b๑\\a190_65.gt.txt\n",
      "C:/Python-DL/Numeric//b๑\\a195_93.gt.txt\n",
      "C:/Python-DL/Numeric//b๑\\a200_34.gt.txt\n",
      "C:/Python-DL/Numeric//b๑\\a205_100.gt.txt\n",
      "C:/Python-DL/Numeric//b๑\\a210_76.gt.txt\n",
      "C:/Python-DL/Numeric//b๑\\a215_525.gt.txt\n",
      "C:/Python-DL/Numeric//b๑\\a225_16.gt.txt\n",
      "C:/Python-DL/Numeric//b๑\\a235_158.gt.txt\n",
      "C:/Python-DL/Numeric//b๑\\a240_252.gt.txt\n",
      "C:/Python-DL/Numeric//b๑\\a250_102.gt.txt\n",
      "C:/Python-DL/Numeric//b๑\\a255_10.gt.txt\n",
      "C:/Python-DL/Numeric//b๑\\a260_60.gt.txt\n",
      "C:/Python-DL/Numeric//b๑\\a265_39.gt.txt\n",
      "C:/Python-DL/Numeric//b๑\\a270_14.gt.txt\n",
      "C:/Python-DL/Numeric//b๑\\a275_180.gt.txt\n",
      "C:/Python-DL/Numeric//b๑\\a285_101.gt.txt\n",
      "C:/Python-DL/Numeric//b๑\\a295_203.gt.txt\n",
      "C:/Python-DL/Numeric//b๑\\a300_190.gt.txt\n",
      "C:/Python-DL/Numeric//b๑\\a310_233.gt.txt\n",
      "C:/Python-DL/Numeric//b๑\\a315_34.gt.txt\n",
      "C:/Python-DL/Numeric//b๑\\a320_17.gt.txt\n",
      "C:/Python-DL/Numeric//b๑\\a325_1.gt.txt\n",
      "C:/Python-DL/Numeric//b๑\\a330_18.gt.txt\n",
      "C:/Python-DL/Numeric//b๑\\a335_30.gt.txt\n",
      "C:/Python-DL/Numeric//b๑\\a340_25.gt.txt\n",
      "C:/Python-DL/Numeric//b๑\\a345_150.gt.txt\n",
      "C:/Python-DL/Numeric//b๒/*.txt\n",
      "C:/Python-DL/Numeric//b๒\\a005_50.gt.txt\n",
      "C:/Python-DL/Numeric//b๒\\a010_211.gt.txt\n",
      "C:/Python-DL/Numeric//b๒\\a015_267.gt.txt\n",
      "C:/Python-DL/Numeric//b๒\\a025_83.gt.txt\n",
      "C:/Python-DL/Numeric//b๒\\a035_40.gt.txt\n",
      "C:/Python-DL/Numeric//b๒\\a040_95.gt.txt\n",
      "C:/Python-DL/Numeric//b๒\\a045_94.gt.txt\n",
      "C:/Python-DL/Numeric//b๒\\a050_300.gt.txt\n",
      "C:/Python-DL/Numeric//b๒\\a055_447.gt.txt\n",
      "C:/Python-DL/Numeric//b๒\\a060_93.gt.txt\n",
      "C:/Python-DL/Numeric//b๒\\a065_47.gt.txt\n",
      "C:/Python-DL/Numeric//b๒\\a075_128.gt.txt\n",
      "C:/Python-DL/Numeric//b๒\\a080_30.gt.txt\n",
      "C:/Python-DL/Numeric//b๒\\a085_144.gt.txt\n",
      "C:/Python-DL/Numeric//b๒\\a090_101.gt.txt\n",
      "C:/Python-DL/Numeric//b๒\\a100_127.gt.txt\n",
      "C:/Python-DL/Numeric//b๒\\a105_83.gt.txt\n",
      "C:/Python-DL/Numeric//b๒\\a110_105.gt.txt\n",
      "C:/Python-DL/Numeric//b๒\\a115_24.gt.txt\n",
      "C:/Python-DL/Numeric//b๒\\a120_55.gt.txt\n",
      "C:/Python-DL/Numeric//b๒\\a125_23.gt.txt\n",
      "C:/Python-DL/Numeric//b๒\\a130_23.gt.txt\n",
      "C:/Python-DL/Numeric//b๒\\a135_51.gt.txt\n",
      "C:/Python-DL/Numeric//b๒\\a140_12.gt.txt\n",
      "C:/Python-DL/Numeric//b๒\\a150_27.gt.txt\n",
      "C:/Python-DL/Numeric//b๒\\a155_15.gt.txt\n",
      "C:/Python-DL/Numeric//b๒\\a160_227.gt.txt\n",
      "C:/Python-DL/Numeric//b๒\\a175_63.gt.txt\n",
      "C:/Python-DL/Numeric//b๒\\a185_167.gt.txt\n",
      "C:/Python-DL/Numeric//b๒\\a190_19.gt.txt\n",
      "C:/Python-DL/Numeric//b๒\\a195_46.gt.txt\n",
      "C:/Python-DL/Numeric//b๒\\a200_51.gt.txt\n",
      "C:/Python-DL/Numeric//b๒\\a205_145.gt.txt\n",
      "C:/Python-DL/Numeric//b๒\\a210_49.gt.txt\n",
      "C:/Python-DL/Numeric//b๒\\a215_73.gt.txt\n",
      "C:/Python-DL/Numeric//b๒\\a220_147.gt.txt\n",
      "C:/Python-DL/Numeric//b๒\\a235_110.gt.txt\n",
      "C:/Python-DL/Numeric//b๒\\a240_16.gt.txt\n",
      "C:/Python-DL/Numeric//b๒\\a250_109.gt.txt\n",
      "C:/Python-DL/Numeric//b๒\\a250_116.gt.txt\n",
      "C:/Python-DL/Numeric//b๒\\a255_16.gt.txt\n",
      "C:/Python-DL/Numeric//b๒\\a260_53.gt.txt\n",
      "C:/Python-DL/Numeric//b๒\\a265_139.gt.txt\n",
      "C:/Python-DL/Numeric//b๒\\a270_1.gt.txt\n",
      "C:/Python-DL/Numeric//b๒\\a275_102.gt.txt\n",
      "C:/Python-DL/Numeric//b๒\\a285_79.gt.txt\n",
      "C:/Python-DL/Numeric//b๒\\a295_311.gt.txt\n",
      "C:/Python-DL/Numeric//b๒\\a300_32.gt.txt\n",
      "C:/Python-DL/Numeric//b๒\\a310_371.gt.txt\n",
      "C:/Python-DL/Numeric//b๒\\a315_289.gt.txt\n",
      "C:/Python-DL/Numeric//b๒\\a320_120.gt.txt\n",
      "C:/Python-DL/Numeric//b๒\\a325_135.gt.txt\n",
      "C:/Python-DL/Numeric//b๒\\a330_29.gt.txt\n",
      "C:/Python-DL/Numeric//b๒\\a335_74.gt.txt\n",
      "C:/Python-DL/Numeric//b๒\\a340_104.gt.txt\n",
      "C:/Python-DL/Numeric//b๒\\a345_111.gt.txt\n",
      "C:/Python-DL/Numeric//b๓/*.txt\n",
      "C:/Python-DL/Numeric//b๓\\a005_361.gt.txt\n",
      "C:/Python-DL/Numeric//b๓\\a015_66.gt.txt\n",
      "C:/Python-DL/Numeric//b๓\\a040_9.gt.txt\n",
      "C:/Python-DL/Numeric//b๓\\a045_95.gt.txt\n",
      "C:/Python-DL/Numeric//b๓\\a050_62.gt.txt\n",
      "C:/Python-DL/Numeric//b๓\\a055_82.gt.txt\n",
      "C:/Python-DL/Numeric//b๓\\a060_75.gt.txt\n",
      "C:/Python-DL/Numeric//b๓\\a065_8.gt.txt\n",
      "C:/Python-DL/Numeric//b๓\\a070_23.gt.txt\n",
      "C:/Python-DL/Numeric//b๓\\a075_110.gt.txt\n",
      "C:/Python-DL/Numeric//b๓\\a080_23.gt.txt\n",
      "C:/Python-DL/Numeric//b๓\\a085_117.gt.txt\n",
      "C:/Python-DL/Numeric//b๓\\a090_100.gt.txt\n",
      "C:/Python-DL/Numeric//b๓\\a100_40.gt.txt\n",
      "C:/Python-DL/Numeric//b๓\\a105_484.gt.txt\n",
      "C:/Python-DL/Numeric//b๓\\a110_109.gt.txt\n",
      "C:/Python-DL/Numeric//b๓\\a115_85.gt.txt\n",
      "C:/Python-DL/Numeric//b๓\\a120_215.gt.txt\n",
      "C:/Python-DL/Numeric//b๓\\a125_47.gt.txt\n",
      "C:/Python-DL/Numeric//b๓\\a130_34.gt.txt\n",
      "C:/Python-DL/Numeric//b๓\\a135_74.gt.txt\n",
      "C:/Python-DL/Numeric//b๓\\a140_22.gt.txt\n",
      "C:/Python-DL/Numeric//b๓\\a150_301.gt.txt\n",
      "C:/Python-DL/Numeric//b๓\\a155_54.gt.txt\n",
      "C:/Python-DL/Numeric//b๓\\a160_265.gt.txt\n",
      "C:/Python-DL/Numeric//b๓\\a170_46.gt.txt\n",
      "C:/Python-DL/Numeric//b๓\\a175_363.gt.txt\n",
      "C:/Python-DL/Numeric//b๓\\a185_256.gt.txt\n",
      "C:/Python-DL/Numeric//b๓\\a190_292.gt.txt\n",
      "C:/Python-DL/Numeric//b๓\\a200_42.gt.txt\n",
      "C:/Python-DL/Numeric//b๓\\a200_64.gt.txt\n",
      "C:/Python-DL/Numeric//b๓\\a205_162.gt.txt\n",
      "C:/Python-DL/Numeric//b๓\\a225_111.gt.txt\n",
      "C:/Python-DL/Numeric//b๓\\a240_211.gt.txt\n",
      "C:/Python-DL/Numeric//b๓\\a255_126.gt.txt\n",
      "C:/Python-DL/Numeric//b๓\\a260_40.gt.txt\n",
      "C:/Python-DL/Numeric//b๓\\a265_163.gt.txt\n",
      "C:/Python-DL/Numeric//b๓\\a270_64.gt.txt\n",
      "C:/Python-DL/Numeric//b๓\\a275_244.gt.txt\n",
      "C:/Python-DL/Numeric//b๓\\a285_416.gt.txt\n",
      "C:/Python-DL/Numeric//b๓\\a295_390.gt.txt\n",
      "C:/Python-DL/Numeric//b๓\\a295_56.gt.txt\n",
      "C:/Python-DL/Numeric//b๓\\a300_109.gt.txt\n",
      "C:/Python-DL/Numeric//b๓\\a300_391.gt.txt\n",
      "C:/Python-DL/Numeric//b๓\\a310_3.gt.txt\n",
      "C:/Python-DL/Numeric//b๓\\a310_413.gt.txt\n",
      "C:/Python-DL/Numeric//b๓\\a315_60.gt.txt\n",
      "C:/Python-DL/Numeric//b๓\\a320_53.gt.txt\n",
      "C:/Python-DL/Numeric//b๓\\a325_148.gt.txt\n",
      "C:/Python-DL/Numeric//b๓\\a325_167.gt.txt\n",
      "C:/Python-DL/Numeric//b๓\\a330_10.gt.txt\n",
      "C:/Python-DL/Numeric//b๓\\a335_48.gt.txt\n",
      "C:/Python-DL/Numeric//b๓\\a335_71.gt.txt\n",
      "C:/Python-DL/Numeric//b๓\\a340_245.gt.txt\n",
      "C:/Python-DL/Numeric//b๓\\a340_267.gt.txt\n",
      "C:/Python-DL/Numeric//b๓\\a345_76.gt.txt\n",
      "C:/Python-DL/Numeric//b๔/*.txt\n",
      "C:/Python-DL/Numeric//b๔\\a005_253.gt.txt\n",
      "C:/Python-DL/Numeric//b๔\\a005_400.gt.txt\n",
      "C:/Python-DL/Numeric//b๔\\a010_127.gt.txt\n",
      "C:/Python-DL/Numeric//b๔\\a010_313.gt.txt\n",
      "C:/Python-DL/Numeric//b๔\\a035_56.gt.txt\n",
      "C:/Python-DL/Numeric//b๔\\a040_197.gt.txt\n",
      "C:/Python-DL/Numeric//b๔\\a045_159.gt.txt\n",
      "C:/Python-DL/Numeric//b๔\\a045_452.gt.txt\n",
      "C:/Python-DL/Numeric//b๔\\a050_126.gt.txt\n",
      "C:/Python-DL/Numeric//b๔\\a050_446.gt.txt\n",
      "C:/Python-DL/Numeric//b๔\\a055_341.gt.txt\n",
      "C:/Python-DL/Numeric//b๔\\a060_129.gt.txt\n",
      "C:/Python-DL/Numeric//b๔\\a065_12.gt.txt\n",
      "C:/Python-DL/Numeric//b๔\\a075_151.gt.txt\n",
      "C:/Python-DL/Numeric//b๔\\a075_69.gt.txt\n",
      "C:/Python-DL/Numeric//b๔\\a080_347.gt.txt\n",
      "C:/Python-DL/Numeric//b๔\\a080_64.gt.txt\n",
      "C:/Python-DL/Numeric//b๔\\a085_253.gt.txt\n",
      "C:/Python-DL/Numeric//b๔\\a090_75.gt.txt\n",
      "C:/Python-DL/Numeric//b๔\\a100_114.gt.txt\n",
      "C:/Python-DL/Numeric//b๔\\a100_132.gt.txt\n",
      "C:/Python-DL/Numeric//b๔\\a105_158.gt.txt\n",
      "C:/Python-DL/Numeric//b๔\\a110_258.gt.txt\n",
      "C:/Python-DL/Numeric//b๔\\a120_167.gt.txt\n",
      "C:/Python-DL/Numeric//b๔\\a125_26.gt.txt\n"
     ]
    },
    {
     "name": "stdout",
     "output_type": "stream",
     "text": [
      "C:/Python-DL/Numeric//b๔\\a130_46.gt.txt\n",
      "C:/Python-DL/Numeric//b๔\\a135_116.gt.txt\n",
      "C:/Python-DL/Numeric//b๔\\a140_16.gt.txt\n",
      "C:/Python-DL/Numeric//b๔\\a150_175.gt.txt\n",
      "C:/Python-DL/Numeric//b๔\\a155_176.gt.txt\n",
      "C:/Python-DL/Numeric//b๔\\a160_50.gt.txt\n",
      "C:/Python-DL/Numeric//b๔\\a175_71.gt.txt\n",
      "C:/Python-DL/Numeric//b๔\\a185_53.gt.txt\n",
      "C:/Python-DL/Numeric//b๔\\a185_93.gt.txt\n",
      "C:/Python-DL/Numeric//b๔\\a200_133.gt.txt\n",
      "C:/Python-DL/Numeric//b๔\\a205_111.gt.txt\n",
      "C:/Python-DL/Numeric//b๔\\a235_79.gt.txt\n",
      "C:/Python-DL/Numeric//b๔\\a240_55.gt.txt\n",
      "C:/Python-DL/Numeric//b๔\\a255_105.gt.txt\n",
      "C:/Python-DL/Numeric//b๔\\a255_190.gt.txt\n",
      "C:/Python-DL/Numeric//b๔\\a260_48.gt.txt\n",
      "C:/Python-DL/Numeric//b๔\\a260_99.gt.txt\n",
      "C:/Python-DL/Numeric//b๔\\a265_193.gt.txt\n",
      "C:/Python-DL/Numeric//b๔\\a275_208.gt.txt\n",
      "C:/Python-DL/Numeric//b๔\\a295_317.gt.txt\n",
      "C:/Python-DL/Numeric//b๔\\a295_93.gt.txt\n",
      "C:/Python-DL/Numeric//b๔\\a300_267.gt.txt\n",
      "C:/Python-DL/Numeric//b๔\\a310_102.gt.txt\n",
      "C:/Python-DL/Numeric//b๔\\a310_14.gt.txt\n",
      "C:/Python-DL/Numeric//b๔\\a315_269.gt.txt\n",
      "C:/Python-DL/Numeric//b๔\\a315_320.gt.txt\n",
      "C:/Python-DL/Numeric//b๔\\a335_280.gt.txt\n",
      "C:/Python-DL/Numeric//b๔\\a335_336.gt.txt\n",
      "C:/Python-DL/Numeric//b๔\\a340_323.gt.txt\n",
      "C:/Python-DL/Numeric//b๔\\a340_37.gt.txt\n",
      "C:/Python-DL/Numeric//b๔\\a345_62.gt.txt\n",
      "C:/Python-DL/Numeric//b๕/*.txt\n",
      "C:/Python-DL/Numeric//b๕\\a005_109.gt.txt\n",
      "C:/Python-DL/Numeric//b๕\\a010_217.gt.txt\n",
      "C:/Python-DL/Numeric//b๕\\a015_355.gt.txt\n",
      "C:/Python-DL/Numeric//b๕\\a025_209.gt.txt\n",
      "C:/Python-DL/Numeric//b๕\\a035_100.gt.txt\n",
      "C:/Python-DL/Numeric//b๕\\a040_220.gt.txt\n",
      "C:/Python-DL/Numeric//b๕\\a045_145.gt.txt\n",
      "C:/Python-DL/Numeric//b๕\\a050_104.gt.txt\n",
      "C:/Python-DL/Numeric//b๕\\a060_174.gt.txt\n",
      "C:/Python-DL/Numeric//b๕\\a065_31.gt.txt\n",
      "C:/Python-DL/Numeric//b๕\\a065_45.gt.txt\n",
      "C:/Python-DL/Numeric//b๕\\a075_370.gt.txt\n",
      "C:/Python-DL/Numeric//b๕\\a075_475.gt.txt\n",
      "C:/Python-DL/Numeric//b๕\\a080_34.gt.txt\n",
      "C:/Python-DL/Numeric//b๕\\a080_71.gt.txt\n",
      "C:/Python-DL/Numeric//b๕\\a085_324.gt.txt\n",
      "C:/Python-DL/Numeric//b๕\\a085_351.gt.txt\n",
      "C:/Python-DL/Numeric//b๕\\a090_145.gt.txt\n",
      "C:/Python-DL/Numeric//b๕\\a090_382.gt.txt\n",
      "C:/Python-DL/Numeric//b๕\\a100_236.gt.txt\n",
      "C:/Python-DL/Numeric//b๕\\a105_247.gt.txt\n",
      "C:/Python-DL/Numeric//b๕\\a105_290.gt.txt\n",
      "C:/Python-DL/Numeric//b๕\\a110_171.gt.txt\n",
      "C:/Python-DL/Numeric//b๕\\a115_122.gt.txt\n",
      "C:/Python-DL/Numeric//b๕\\a115_243.gt.txt\n",
      "C:/Python-DL/Numeric//b๕\\a120_154.gt.txt\n",
      "C:/Python-DL/Numeric//b๕\\a120_51.gt.txt\n",
      "C:/Python-DL/Numeric//b๕\\a125_139.gt.txt\n",
      "C:/Python-DL/Numeric//b๕\\a130_198.gt.txt\n",
      "C:/Python-DL/Numeric//b๕\\a135_250.gt.txt\n",
      "C:/Python-DL/Numeric//b๕\\a160_144.gt.txt\n",
      "C:/Python-DL/Numeric//b๕\\a160_250.gt.txt\n",
      "C:/Python-DL/Numeric//b๕\\a175_101.gt.txt\n",
      "C:/Python-DL/Numeric//b๕\\a175_394.gt.txt\n",
      "C:/Python-DL/Numeric//b๕\\a200_290.gt.txt\n",
      "C:/Python-DL/Numeric//b๕\\a200_81.gt.txt\n",
      "C:/Python-DL/Numeric//b๕\\a205_339.gt.txt\n",
      "C:/Python-DL/Numeric//b๕\\a205_490.gt.txt\n",
      "C:/Python-DL/Numeric//b๕\\a210_149.gt.txt\n",
      "C:/Python-DL/Numeric//b๕\\a215_56.gt.txt\n",
      "C:/Python-DL/Numeric//b๕\\a225_106.gt.txt\n",
      "C:/Python-DL/Numeric//b๕\\a235_71.gt.txt\n",
      "C:/Python-DL/Numeric//b๕\\a240_300.gt.txt\n",
      "C:/Python-DL/Numeric//b๕\\a255_94.gt.txt\n",
      "C:/Python-DL/Numeric//b๕\\a285_122.gt.txt\n",
      "C:/Python-DL/Numeric//b๕\\a295_101.gt.txt\n",
      "C:/Python-DL/Numeric//b๕\\a300_211.gt.txt\n",
      "C:/Python-DL/Numeric//b๕\\a310_61.gt.txt\n",
      "C:/Python-DL/Numeric//b๕\\a315_212.gt.txt\n",
      "C:/Python-DL/Numeric//b๕\\a320_201.gt.txt\n",
      "C:/Python-DL/Numeric//b๕\\a325_114.gt.txt\n",
      "C:/Python-DL/Numeric//b๕\\a325_7.gt.txt\n",
      "C:/Python-DL/Numeric//b๕\\a330_256.gt.txt\n",
      "C:/Python-DL/Numeric//b๕\\a340_203.gt.txt\n",
      "C:/Python-DL/Numeric//b๕\\a345_158.gt.txt\n",
      "C:/Python-DL/Numeric//b๕\\a345_71.gt.txt\n",
      "C:/Python-DL/Numeric//b๖/*.txt\n",
      "C:/Python-DL/Numeric//b๖\\a010_150.gt.txt\n",
      "C:/Python-DL/Numeric//b๖\\a010_56.gt.txt\n",
      "C:/Python-DL/Numeric//b๖\\a015_230.gt.txt\n",
      "C:/Python-DL/Numeric//b๖\\a040_134.gt.txt\n",
      "C:/Python-DL/Numeric//b๖\\a040_253.gt.txt\n",
      "C:/Python-DL/Numeric//b๖\\a045_117.gt.txt\n",
      "C:/Python-DL/Numeric//b๖\\a045_129.gt.txt\n",
      "C:/Python-DL/Numeric//b๖\\a050_245.gt.txt\n",
      "C:/Python-DL/Numeric//b๖\\a055_112.gt.txt\n",
      "C:/Python-DL/Numeric//b๖\\a065_356.gt.txt\n",
      "C:/Python-DL/Numeric//b๖\\a065_67.gt.txt\n",
      "C:/Python-DL/Numeric//b๖\\a075_210.gt.txt\n",
      "C:/Python-DL/Numeric//b๖\\a075_469.gt.txt\n",
      "C:/Python-DL/Numeric//b๖\\a080_62.gt.txt\n",
      "C:/Python-DL/Numeric//b๖\\a085_37.gt.txt\n",
      "C:/Python-DL/Numeric//b๖\\a100_178.gt.txt\n",
      "C:/Python-DL/Numeric//b๖\\a105_294.gt.txt\n",
      "C:/Python-DL/Numeric//b๖\\a110_289.gt.txt\n",
      "C:/Python-DL/Numeric//b๖\\a115_249.gt.txt\n",
      "C:/Python-DL/Numeric//b๖\\a115_72.gt.txt\n",
      "C:/Python-DL/Numeric//b๖\\a120_242.gt.txt\n",
      "C:/Python-DL/Numeric//b๖\\a130_120.gt.txt\n",
      "C:/Python-DL/Numeric//b๖\\a130_154.gt.txt\n",
      "C:/Python-DL/Numeric//b๖\\a135_177.gt.txt\n",
      "C:/Python-DL/Numeric//b๖\\a135_308.gt.txt\n",
      "C:/Python-DL/Numeric//b๖\\a140_109.gt.txt\n",
      "C:/Python-DL/Numeric//b๖\\a140_67.gt.txt\n",
      "C:/Python-DL/Numeric//b๖\\a150_221.gt.txt\n",
      "C:/Python-DL/Numeric//b๖\\a160_93.gt.txt\n",
      "C:/Python-DL/Numeric//b๖\\a175_417.gt.txt\n",
      "C:/Python-DL/Numeric//b๖\\a175_43.gt.txt\n",
      "C:/Python-DL/Numeric//b๖\\a185_207.gt.txt\n",
      "C:/Python-DL/Numeric//b๖\\a190_305.gt.txt\n",
      "C:/Python-DL/Numeric//b๖\\a200_242.gt.txt\n",
      "C:/Python-DL/Numeric//b๖\\a200_66.gt.txt\n",
      "C:/Python-DL/Numeric//b๖\\a210_273.gt.txt\n",
      "C:/Python-DL/Numeric//b๖\\a210_432.gt.txt\n",
      "C:/Python-DL/Numeric//b๖\\a215_354.gt.txt\n",
      "C:/Python-DL/Numeric//b๖\\a235_37.gt.txt\n",
      "C:/Python-DL/Numeric//b๖\\a255_476.gt.txt\n",
      "C:/Python-DL/Numeric//b๖\\a260_17.gt.txt\n",
      "C:/Python-DL/Numeric//b๖\\a260_26.gt.txt\n",
      "C:/Python-DL/Numeric//b๖\\a265_61.gt.txt\n",
      "C:/Python-DL/Numeric//b๖\\a285_105.gt.txt\n",
      "C:/Python-DL/Numeric//b๖\\a295_278.gt.txt\n",
      "C:/Python-DL/Numeric//b๖\\a295_403.gt.txt\n",
      "C:/Python-DL/Numeric//b๖\\a310_259.gt.txt\n",
      "C:/Python-DL/Numeric//b๖\\a310_361.gt.txt\n",
      "C:/Python-DL/Numeric//b๖\\a320_31.gt.txt\n",
      "C:/Python-DL/Numeric//b๖\\a325_152.gt.txt\n",
      "C:/Python-DL/Numeric//b๖\\a325_157.gt.txt\n",
      "C:/Python-DL/Numeric//b๖\\a330_17.gt.txt\n",
      "C:/Python-DL/Numeric//b๖\\a330_36.gt.txt\n",
      "C:/Python-DL/Numeric//b๖\\a335_366.gt.txt\n",
      "C:/Python-DL/Numeric//b๖\\a340_117.gt.txt\n",
      "C:/Python-DL/Numeric//b๖\\a345_33.gt.txt\n",
      "C:/Python-DL/Numeric//b๗/*.txt\n",
      "C:/Python-DL/Numeric//b๗\\a005_432.gt.txt\n",
      "C:/Python-DL/Numeric//b๗\\a010_258.gt.txt\n",
      "C:/Python-DL/Numeric//b๗\\a015_354.gt.txt\n",
      "C:/Python-DL/Numeric//b๗\\a025_231.gt.txt\n",
      "C:/Python-DL/Numeric//b๗\\a025_358.gt.txt\n",
      "C:/Python-DL/Numeric//b๗\\a035_115.gt.txt\n",
      "C:/Python-DL/Numeric//b๗\\a040_472.gt.txt\n",
      "C:/Python-DL/Numeric//b๗\\a055_66.gt.txt\n",
      "C:/Python-DL/Numeric//b๗\\a060_163.gt.txt\n",
      "C:/Python-DL/Numeric//b๗\\a065_92.gt.txt\n",
      "C:/Python-DL/Numeric//b๗\\a070_136.gt.txt\n",
      "C:/Python-DL/Numeric//b๗\\a075_94.gt.txt\n",
      "C:/Python-DL/Numeric//b๗\\a080_305.gt.txt\n",
      "C:/Python-DL/Numeric//b๗\\a085_220.gt.txt\n",
      "C:/Python-DL/Numeric//b๗\\a090_46.gt.txt\n",
      "C:/Python-DL/Numeric//b๗\\a105_43.gt.txt\n",
      "C:/Python-DL/Numeric//b๗\\a115_175.gt.txt\n",
      "C:/Python-DL/Numeric//b๗\\a120_67.gt.txt\n",
      "C:/Python-DL/Numeric//b๗\\a125_64.gt.txt\n",
      "C:/Python-DL/Numeric//b๗\\a130_61.gt.txt\n",
      "C:/Python-DL/Numeric//b๗\\a135_102.gt.txt\n",
      "C:/Python-DL/Numeric//b๗\\a135_367.gt.txt\n",
      "C:/Python-DL/Numeric//b๗\\a140_131.gt.txt\n",
      "C:/Python-DL/Numeric//b๗\\a140_18.gt.txt\n",
      "C:/Python-DL/Numeric//b๗\\a150_177.gt.txt\n",
      "C:/Python-DL/Numeric//b๗\\a150_287.gt.txt\n",
      "C:/Python-DL/Numeric//b๗\\a155_133.gt.txt\n",
      "C:/Python-DL/Numeric//b๗\\a175_111.gt.txt\n",
      "C:/Python-DL/Numeric//b๗\\a175_92.gt.txt\n",
      "C:/Python-DL/Numeric//b๗\\a185_273.gt.txt\n",
      "C:/Python-DL/Numeric//b๗\\a185_67.gt.txt\n",
      "C:/Python-DL/Numeric//b๗\\a190_64.gt.txt\n",
      "C:/Python-DL/Numeric//b๗\\a195_386.gt.txt\n",
      "C:/Python-DL/Numeric//b๗\\a195_69.gt.txt\n",
      "C:/Python-DL/Numeric//b๗\\a200_157.gt.txt\n",
      "C:/Python-DL/Numeric//b๗\\a200_206.gt.txt\n",
      "C:/Python-DL/Numeric//b๗\\a210_68.gt.txt\n",
      "C:/Python-DL/Numeric//b๗\\a210_82.gt.txt\n",
      "C:/Python-DL/Numeric//b๗\\a215_79.gt.txt\n",
      "C:/Python-DL/Numeric//b๗\\a220_208.gt.txt\n",
      "C:/Python-DL/Numeric//b๗\\a225_118.gt.txt\n",
      "C:/Python-DL/Numeric//b๗\\a225_323.gt.txt\n",
      "C:/Python-DL/Numeric//b๗\\a235_167.gt.txt\n",
      "C:/Python-DL/Numeric//b๗\\a235_203.gt.txt\n",
      "C:/Python-DL/Numeric//b๗\\a260_114.gt.txt\n",
      "C:/Python-DL/Numeric//b๗\\a265_113.gt.txt\n",
      "C:/Python-DL/Numeric//b๗\\a265_32.gt.txt\n",
      "C:/Python-DL/Numeric//b๗\\a270_39.gt.txt\n",
      "C:/Python-DL/Numeric//b๗\\a270_52.gt.txt\n",
      "C:/Python-DL/Numeric//b๗\\a275_238.gt.txt\n",
      "C:/Python-DL/Numeric//b๗\\a295_370.gt.txt\n",
      "C:/Python-DL/Numeric//b๗\\a310_71.gt.txt\n",
      "C:/Python-DL/Numeric//b๗\\a315_375.gt.txt\n",
      "C:/Python-DL/Numeric//b๗\\a330_24.gt.txt\n",
      "C:/Python-DL/Numeric//b๗\\a330_294.gt.txt\n",
      "C:/Python-DL/Numeric//b๗\\a340_53.gt.txt\n",
      "C:/Python-DL/Numeric//b๘/*.txt\n",
      "C:/Python-DL/Numeric//b๘\\a005_401.gt.txt\n",
      "C:/Python-DL/Numeric//b๘\\a010_123.gt.txt\n",
      "C:/Python-DL/Numeric//b๘\\a010_262.gt.txt\n",
      "C:/Python-DL/Numeric//b๘\\a035_185.gt.txt\n",
      "C:/Python-DL/Numeric//b๘\\a035_412.gt.txt\n",
      "C:/Python-DL/Numeric//b๘\\a040_54.gt.txt\n",
      "C:/Python-DL/Numeric//b๘\\a050_142.gt.txt\n",
      "C:/Python-DL/Numeric//b๘\\a050_460.gt.txt\n",
      "C:/Python-DL/Numeric//b๘\\a050_491.gt.txt\n",
      "C:/Python-DL/Numeric//b๘\\a055_299.gt.txt\n",
      "C:/Python-DL/Numeric//b๘\\a055_302.gt.txt\n",
      "C:/Python-DL/Numeric//b๘\\a060_122.gt.txt\n",
      "C:/Python-DL/Numeric//b๘\\a060_191.gt.txt\n",
      "C:/Python-DL/Numeric//b๘\\a065_338.gt.txt\n",
      "C:/Python-DL/Numeric//b๘\\a065_58.gt.txt\n",
      "C:/Python-DL/Numeric//b๘\\a070_190.gt.txt\n",
      "C:/Python-DL/Numeric//b๘\\a070_36.gt.txt\n",
      "C:/Python-DL/Numeric//b๘\\a075_131.gt.txt\n",
      "C:/Python-DL/Numeric//b๘\\a075_147.gt.txt\n",
      "C:/Python-DL/Numeric//b๘\\a080_133.gt.txt\n",
      "C:/Python-DL/Numeric//b๘\\a080_99.gt.txt\n",
      "C:/Python-DL/Numeric//b๘\\a085_173.gt.txt\n",
      "C:/Python-DL/Numeric//b๘\\a100_25.gt.txt\n",
      "C:/Python-DL/Numeric//b๘\\a100_50.gt.txt\n",
      "C:/Python-DL/Numeric//b๘\\a105_332.gt.txt\n",
      "C:/Python-DL/Numeric//b๘\\a105_474.gt.txt\n",
      "C:/Python-DL/Numeric//b๘\\a110_253.gt.txt\n",
      "C:/Python-DL/Numeric//b๘\\a110_296.gt.txt\n",
      "C:/Python-DL/Numeric//b๘\\a115_144.gt.txt\n",
      "C:/Python-DL/Numeric//b๘\\a115_261.gt.txt\n",
      "C:/Python-DL/Numeric//b๘\\a120_255.gt.txt\n",
      "C:/Python-DL/Numeric//b๘\\a125_34.gt.txt\n",
      "C:/Python-DL/Numeric//b๘\\a125_73.gt.txt\n",
      "C:/Python-DL/Numeric//b๘\\a140_201.gt.txt\n",
      "C:/Python-DL/Numeric//b๘\\a155_145.gt.txt\n",
      "C:/Python-DL/Numeric//b๘\\a160_276.gt.txt\n",
      "C:/Python-DL/Numeric//b๘\\a190_115.gt.txt\n",
      "C:/Python-DL/Numeric//b๘\\a190_45.gt.txt\n",
      "C:/Python-DL/Numeric//b๘\\a195_304.gt.txt\n",
      "C:/Python-DL/Numeric//b๘\\a210_66.gt.txt\n",
      "C:/Python-DL/Numeric//b๘\\a215_230.gt.txt\n",
      "C:/Python-DL/Numeric//b๘\\a215_446.gt.txt\n",
      "C:/Python-DL/Numeric//b๘\\a220_174.gt.txt\n",
      "C:/Python-DL/Numeric//b๘\\a220_262.gt.txt\n",
      "C:/Python-DL/Numeric//b๘\\a235_171.gt.txt\n",
      "C:/Python-DL/Numeric//b๘\\a260_74.gt.txt\n",
      "C:/Python-DL/Numeric//b๘\\a260_84.gt.txt\n",
      "C:/Python-DL/Numeric//b๘\\a270_87.gt.txt\n",
      "C:/Python-DL/Numeric//b๘\\a275_194.gt.txt\n"
     ]
    },
    {
     "name": "stdout",
     "output_type": "stream",
     "text": [
      "C:/Python-DL/Numeric//b๘\\a285_86.gt.txt\n",
      "C:/Python-DL/Numeric//b๘\\a295_81.gt.txt\n",
      "C:/Python-DL/Numeric//b๘\\a300_92.gt.txt\n",
      "C:/Python-DL/Numeric//b๘\\a310_322.gt.txt\n",
      "C:/Python-DL/Numeric//b๘\\a325_17.gt.txt\n",
      "C:/Python-DL/Numeric//b๘\\a330_112.gt.txt\n",
      "C:/Python-DL/Numeric//b๘\\a340_313.gt.txt\n",
      "C:/Python-DL/Numeric//b๙/*.txt\n",
      "C:/Python-DL/Numeric//b๙\\a005_502.gt.txt\n",
      "C:/Python-DL/Numeric//b๙\\a005_54.gt.txt\n",
      "C:/Python-DL/Numeric//b๙\\a025_92.gt.txt\n",
      "C:/Python-DL/Numeric//b๙\\a035_337.gt.txt\n",
      "C:/Python-DL/Numeric//b๙\\a040_349.gt.txt\n",
      "C:/Python-DL/Numeric//b๙\\a045_413.gt.txt\n",
      "C:/Python-DL/Numeric//b๙\\a045_84.gt.txt\n",
      "C:/Python-DL/Numeric//b๙\\a050_144.gt.txt\n",
      "C:/Python-DL/Numeric//b๙\\a050_53.gt.txt\n",
      "C:/Python-DL/Numeric//b๙\\a055_176.gt.txt\n",
      "C:/Python-DL/Numeric//b๙\\a055_311.gt.txt\n",
      "C:/Python-DL/Numeric//b๙\\a055_79.gt.txt\n",
      "C:/Python-DL/Numeric//b๙\\a065_111.gt.txt\n",
      "C:/Python-DL/Numeric//b๙\\a065_142.gt.txt\n",
      "C:/Python-DL/Numeric//b๙\\a070_172.gt.txt\n",
      "C:/Python-DL/Numeric//b๙\\a075_168.gt.txt\n",
      "C:/Python-DL/Numeric//b๙\\a075_186.gt.txt\n",
      "C:/Python-DL/Numeric//b๙\\a075_6.gt.txt\n",
      "C:/Python-DL/Numeric//b๙\\a080_316.gt.txt\n",
      "C:/Python-DL/Numeric//b๙\\a085_109.gt.txt\n",
      "C:/Python-DL/Numeric//b๙\\a085_165.gt.txt\n",
      "C:/Python-DL/Numeric//b๙\\a090_196.gt.txt\n",
      "C:/Python-DL/Numeric//b๙\\a100_157.gt.txt\n",
      "C:/Python-DL/Numeric//b๙\\a105_67.gt.txt\n",
      "C:/Python-DL/Numeric//b๙\\a110_182.gt.txt\n",
      "C:/Python-DL/Numeric//b๙\\a115_57.gt.txt\n",
      "C:/Python-DL/Numeric//b๙\\a120_56.gt.txt\n",
      "C:/Python-DL/Numeric//b๙\\a125_50.gt.txt\n",
      "C:/Python-DL/Numeric//b๙\\a125_58.gt.txt\n",
      "C:/Python-DL/Numeric//b๙\\a130_80.gt.txt\n",
      "C:/Python-DL/Numeric//b๙\\a130_84.gt.txt\n",
      "C:/Python-DL/Numeric//b๙\\a135_100.gt.txt\n",
      "C:/Python-DL/Numeric//b๙\\a135_212.gt.txt\n",
      "C:/Python-DL/Numeric//b๙\\a135_480.gt.txt\n",
      "C:/Python-DL/Numeric//b๙\\a140_43.gt.txt\n",
      "C:/Python-DL/Numeric//b๙\\a150_329.gt.txt\n",
      "C:/Python-DL/Numeric//b๙\\a155_50.gt.txt\n",
      "C:/Python-DL/Numeric//b๙\\a155_62.gt.txt\n",
      "C:/Python-DL/Numeric//b๙\\a160_45.gt.txt\n",
      "C:/Python-DL/Numeric//b๙\\a175_392.gt.txt\n",
      "C:/Python-DL/Numeric//b๙\\a195_113.gt.txt\n",
      "C:/Python-DL/Numeric//b๙\\a200_249.gt.txt\n",
      "C:/Python-DL/Numeric//b๙\\a225_128.gt.txt\n",
      "C:/Python-DL/Numeric//b๙\\a235_180.gt.txt\n",
      "C:/Python-DL/Numeric//b๙\\a240_231.gt.txt\n",
      "C:/Python-DL/Numeric//b๙\\a240_46.gt.txt\n",
      "C:/Python-DL/Numeric//b๙\\a255_151.gt.txt\n",
      "C:/Python-DL/Numeric//b๙\\a255_575.gt.txt\n",
      "C:/Python-DL/Numeric//b๙\\a265_100.gt.txt\n",
      "C:/Python-DL/Numeric//b๙\\a265_127.gt.txt\n",
      "C:/Python-DL/Numeric//b๙\\a295_48.gt.txt\n",
      "C:/Python-DL/Numeric//b๙\\a310_284.gt.txt\n",
      "C:/Python-DL/Numeric//b๙\\a310_370.gt.txt\n",
      "C:/Python-DL/Numeric//b๙\\a325_149.gt.txt\n",
      "C:/Python-DL/Numeric//b๙\\a335_369.gt.txt\n",
      "C:/Python-DL/Numeric//b๙\\a345_57.gt.txt\n",
      "C:/Python-DL/Numeric//.ipynb_checkpoints/*.txt\n",
      "C:/Python-DL/Numeric//Numeric/*.txt\n",
      "C:/Python-DL/Numeric//Result/*.txt\n",
      "Letters: ๐ ๑ ๒ ๓ ๔ ๕ ๖ ๗ ๘ ๙\n",
      "['๐', '๑', '๒', '๓', '๔', '๕', '๖', '๗', '๘', '๙']\n",
      "A number of classes= 10\n"
     ]
    }
   ],
   "source": [
    "def generate_code(path):\n",
    "#    os.chdir(path)\n",
    "    letters = ''\n",
    "\n",
    "    for root, dirs, files in os.walk('.', topdown = False):\n",
    "        if len(dirs)>0:\n",
    "            for d in dirs:\n",
    "                path1=path+'/'+d+'/*.txt'\n",
    "                print(path1)\n",
    "                fi = glob.glob(path1)\n",
    "\n",
    "                for name in fi :\n",
    "                        print(name)\n",
    "                        with open(name,'r',encoding='utf-8') as f1:\n",
    "                            transcript = f1.read()\n",
    "                            letters += transcript\n",
    "                \n",
    "    return Counter(letters) #this function \n",
    "\n",
    "path='C:/Python-DL/Numeric/'\n",
    "c_train=generate_code(path)\n",
    "\n",
    "letters_train = set(c_train.keys())\n",
    "letters=sorted(list(letters_train))\n",
    "print('Letters:', ' '.join(letters))\n",
    "\n",
    "print(letters)\n",
    "num_classes=len(letters)\n",
    "\n",
    "print('A number of classes=',num_classes)"
   ]
  },
  {
   "cell_type": "code",
   "execution_count": 97,
   "metadata": {},
   "outputs": [
    {
     "name": "stdout",
     "output_type": "stream",
     "text": [
      "please wait processing...\n",
      "C:/Python-DL/Numeric//.ipynb_checkpoints/*.png\n",
      "C:/Python-DL/Numeric//Numeric/*.png\n",
      "C:/Python-DL/Numeric//Result/*.png\n",
      "C:/Python-DL/Numeric//b๐/*.png\n",
      "Filename:a005_208.png\n",
      "Label: ๐\n",
      "\n"
     ]
    },
    {
     "data": {
      "image/png": "[encoded data removed]",
      "text/plain": [
       "<Figure size 72x72 with 1 Axes>"
      ]
     },
     "metadata": {},
     "output_type": "display_data"
    },
    {
     "name": "stdout",
     "output_type": "stream",
     "text": [
      "Filename:a015_112.png\n",
      "Label: ๐\n",
      "\n"
     ]
    },
    {
     "data": {
      "image/png": "[encoded data removed]",
      "text/plain": [
       "<Figure size 72x72 with 1 Axes>"
      ]
     },
     "metadata": {},
     "output_type": "display_data"
    },
    {
     "name": "stdout",
     "output_type": "stream",
     "text": [
      "Filename:a025_317.png\n",
      "Label: ๐\n",
      "\n"
     ]
    },
    {
     "data": {
      "image/png": "[encoded data removed]",
      "text/plain": [
       "<Figure size 72x72 with 1 Axes>"
      ]
     },
     "metadata": {},
     "output_type": "display_data"
    },
    {
     "name": "stdout",
     "output_type": "stream",
     "text": [
      "C:/Python-DL/Numeric//b๑/*.png\n",
      "Filename:a005_69.png\n",
      "Label: ๑\n",
      "\n"
     ]
    },
    {
     "data": {
      "image/png": "[encoded data removed]",
      "text/plain": [
       "<Figure size 72x72 with 1 Axes>"
      ]
     },
     "metadata": {},
     "output_type": "display_data"
    },
    {
     "name": "stdout",
     "output_type": "stream",
     "text": [
      "Filename:a010_299.png\n",
      "Label: ๑\n",
      "\n"
     ]
    },
    {
     "data": {
      "image/png": "[encoded data removed]",
      "text/plain": [
       "<Figure size 72x72 with 1 Axes>"
      ]
     },
     "metadata": {},
     "output_type": "display_data"
    },
    {
     "name": "stdout",
     "output_type": "stream",
     "text": [
      "Filename:a015_98.png\n",
      "Label: ๑\n",
      "\n"
     ]
    },
    {
     "data": {
      "image/png": "[encoded data removed]",
      "text/plain": [
       "<Figure size 72x72 with 1 Axes>"
      ]
     },
     "metadata": {},
     "output_type": "display_data"
    },
    {
     "name": "stdout",
     "output_type": "stream",
     "text": [
      "C:/Python-DL/Numeric//b๒/*.png\n",
      "Filename:a005_50.png\n",
      "Label: ๒\n",
      "\n"
     ]
    },
    {
     "data": {
      "image/png": "[encoded data removed]",
      "text/plain": [
       "<Figure size 72x72 with 1 Axes>"
      ]
     },
     "metadata": {},
     "output_type": "display_data"
    },
    {
     "name": "stdout",
     "output_type": "stream",
     "text": [
      "Filename:a010_211.png\n",
      "Label: ๒\n",
      "\n"
     ]
    },
    {
     "data": {
      "image/png": "[encoded data removed]",
      "text/plain": [
       "<Figure size 72x72 with 1 Axes>"
      ]
     },
     "metadata": {},
     "output_type": "display_data"
    },
    {
     "name": "stdout",
     "output_type": "stream",
     "text": [
      "Filename:a015_267.png\n",
      "Label: ๒\n",
      "\n"
     ]
    },
    {
     "data": {
      "image/png": "[encoded data removed]",
      "text/plain": [
       "<Figure size 72x72 with 1 Axes>"
      ]
     },
     "metadata": {},
     "output_type": "display_data"
    },
    {
     "name": "stdout",
     "output_type": "stream",
     "text": [
      "C:/Python-DL/Numeric//b๓/*.png\n",
      "Filename:a005_361.png\n",
      "Label: ๓\n",
      "\n"
     ]
    },
    {
     "data": {
      "image/png": "[encoded data removed]",
      "text/plain": [
       "<Figure size 72x72 with 1 Axes>"
      ]
     },
     "metadata": {},
     "output_type": "display_data"
    },
    {
     "name": "stdout",
     "output_type": "stream",
     "text": [
      "Filename:a015_66.png\n",
      "Label: ๓\n",
      "\n"
     ]
    },
    {
     "data": {
      "image/png": "[encoded data removed]",
      "text/plain": [
       "<Figure size 72x72 with 1 Axes>"
      ]
     },
     "metadata": {},
     "output_type": "display_data"
    },
    {
     "name": "stdout",
     "output_type": "stream",
     "text": [
      "Filename:a040_9.png\n",
      "Label: ๓\n",
      "\n"
     ]
    },
    {
     "data": {
      "image/png": "[encoded data removed]",
      "text/plain": [
       "<Figure size 72x72 with 1 Axes>"
      ]
     },
     "metadata": {},
     "output_type": "display_data"
    },
    {
     "name": "stdout",
     "output_type": "stream",
     "text": [
      "C:/Python-DL/Numeric//b๔/*.png\n",
      "Filename:a005_253.png\n",
      "Label: ๔\n",
      "\n"
     ]
    },
    {
     "data": {
      "image/png": "[encoded data removed]",
      "text/plain": [
       "<Figure size 72x72 with 1 Axes>"
      ]
     },
     "metadata": {},
     "output_type": "display_data"
    },
    {
     "name": "stdout",
     "output_type": "stream",
     "text": [
      "Filename:a005_400.png\n",
      "Label: ๔\n",
      "\n"
     ]
    },
    {
     "data": {
      "image/png": "[encoded data removed]",
      "text/plain": [
       "<Figure size 72x72 with 1 Axes>"
      ]
     },
     "metadata": {},
     "output_type": "display_data"
    },
    {
     "name": "stdout",
     "output_type": "stream",
     "text": [
      "Filename:a010_127.png\n",
      "Label: ๔\n",
      "\n"
     ]
    },
    {
     "data": {
      "image/png": "[encoded data removed]",
      "text/plain": [
       "<Figure size 72x72 with 1 Axes>"
      ]
     },
     "metadata": {},
     "output_type": "display_data"
    },
    {
     "name": "stdout",
     "output_type": "stream",
     "text": [
      "C:/Python-DL/Numeric//b๕/*.png\n",
      "Filename:a005_109.png\n",
      "Label: ๕\n",
      "\n"
     ]
    },
    {
     "data": {
      "image/png": "[encoded data removed]",
      "text/plain": [
       "<Figure size 72x72 with 1 Axes>"
      ]
     },
     "metadata": {},
     "output_type": "display_data"
    },
    {
     "name": "stdout",
     "output_type": "stream",
     "text": [
      "Filename:a010_217.png\n",
      "Label: ๕\n",
      "\n"
     ]
    },
    {
     "data": {
      "image/png": "[encoded data removed]",
      "text/plain": [
       "<Figure size 72x72 with 1 Axes>"
      ]
     },
     "metadata": {},
     "output_type": "display_data"
    },
    {
     "name": "stdout",
     "output_type": "stream",
     "text": [
      "Filename:a015_355.png\n",
      "Label: ๕\n",
      "\n"
     ]
    },
    {
     "data": {
      "image/png": "[encoded data removed]",
      "text/plain": [
       "<Figure size 72x72 with 1 Axes>"
      ]
     },
     "metadata": {},
     "output_type": "display_data"
    },
    {
     "name": "stdout",
     "output_type": "stream",
     "text": [
      "C:/Python-DL/Numeric//b๖/*.png\n",
      "Filename:a010_150.png\n",
      "Label: ๖\n",
      "\n"
     ]
    },
    {
     "data": {
      "image/png": "[encoded data removed]",
      "text/plain": [
       "<Figure size 72x72 with 1 Axes>"
      ]
     },
     "metadata": {},
     "output_type": "display_data"
    },
    {
     "name": "stdout",
     "output_type": "stream",
     "text": [
      "Filename:a010_56.png\n",
      "Label: ๖\n",
      "\n"
     ]
    },
    {
     "data": {
      "image/png": "[encoded data removed]",
      "text/plain": [
       "<Figure size 72x72 with 1 Axes>"
      ]
     },
     "metadata": {},
     "output_type": "display_data"
    },
    {
     "name": "stdout",
     "output_type": "stream",
     "text": [
      "Filename:a015_230.png\n",
      "Label: ๖\n",
      "\n"
     ]
    },
    {
     "data": {
      "image/png": "[encoded data removed]",
      "text/plain": [
       "<Figure size 72x72 with 1 Axes>"
      ]
     },
     "metadata": {},
     "output_type": "display_data"
    },
    {
     "name": "stdout",
     "output_type": "stream",
     "text": [
      "C:/Python-DL/Numeric//b๗/*.png\n",
      "Filename:a005_432.png\n",
      "Label: ๗\n",
      "\n"
     ]
    },
    {
     "data": {
      "image/png": "[encoded data removed]",
      "text/plain": [
       "<Figure size 72x72 with 1 Axes>"
      ]
     },
     "metadata": {},
     "output_type": "display_data"
    },
    {
     "name": "stdout",
     "output_type": "stream",
     "text": [
      "Filename:a010_258.png\n",
      "Label: ๗\n",
      "\n"
     ]
    },
    {
     "data": {
      "image/png": "[encoded data removed]",
      "text/plain": [
       "<Figure size 72x72 with 1 Axes>"
      ]
     },
     "metadata": {},
     "output_type": "display_data"
    },
    {
     "name": "stdout",
     "output_type": "stream",
     "text": [
      "Filename:a015_354.png\n",
      "Label: ๗\n",
      "\n"
     ]
    },
    {
     "data": {
      "image/png": "[encoded data removed]",
      "text/plain": [
       "<Figure size 72x72 with 1 Axes>"
      ]
     },
     "metadata": {},
     "output_type": "display_data"
    },
    {
     "name": "stdout",
     "output_type": "stream",
     "text": [
      "C:/Python-DL/Numeric//b๘/*.png\n",
      "Filename:a005_401.png\n",
      "Label: ๘\n",
      "\n"
     ]
    },
    {
     "data": {
      "image/png": "[encoded data removed]",
      "text/plain": [
       "<Figure size 72x72 with 1 Axes>"
      ]
     },
     "metadata": {},
     "output_type": "display_data"
    },
    {
     "name": "stdout",
     "output_type": "stream",
     "text": [
      "Filename:a010_123.png\n",
      "Label: ๘\n",
      "\n"
     ]
    },
    {
     "data": {
      "image/png": "[encoded data removed]",
      "text/plain": [
       "<Figure size 72x72 with 1 Axes>"
      ]
     },
     "metadata": {},
     "output_type": "display_data"
    },
    {
     "name": "stdout",
     "output_type": "stream",
     "text": [
      "Filename:a010_262.png\n",
      "Label: ๘\n",
      "\n"
     ]
    },
    {
     "data": {
      "image/png": "[encoded data removed]",
      "text/plain": [
       "<Figure size 72x72 with 1 Axes>"
      ]
     },
     "metadata": {},
     "output_type": "display_data"
    },
    {
     "name": "stdout",
     "output_type": "stream",
     "text": [
      "C:/Python-DL/Numeric//b๙/*.png\n",
      "Filename:a005_502.png\n",
      "Label: ๙\n",
      "\n"
     ]
    },
    {
     "data": {
      "image/png": "[encoded data removed]",
      "text/plain": [
       "<Figure size 72x72 with 1 Axes>"
      ]
     },
     "metadata": {},
     "output_type": "display_data"
    },
    {
     "name": "stdout",
     "output_type": "stream",
     "text": [
      "Filename:a005_54.png\n",
      "Label: ๙\n",
      "\n"
     ]
    },
    {
     "data": {
      "image/png": "[encoded data removed]",
      "text/plain": [
       "<Figure size 72x72 with 1 Axes>"
      ]
     },
     "metadata": {},
     "output_type": "display_data"
    },
    {
     "name": "stdout",
     "output_type": "stream",
     "text": [
      "Filename:a025_92.png\n",
      "Label: ๙\n",
      "\n"
     ]
    },
    {
     "data": {
      "image/png": "[encoded data removed]",
      "text/plain": [
       "<Figure size 72x72 with 1 Axes>"
      ]
     },
     "metadata": {},
     "output_type": "display_data"
    },
    {
     "name": "stdout",
     "output_type": "stream",
     "text": [
      "560\n"
     ]
    }
   ],
   "source": [
    "def loadImageFolder(path,H,W,cl_name): \n",
    "    print('please wait processing...')\n",
    "    data=[]\n",
    "    label=[]\n",
    "    for root, dirs, files in os.walk(\".\"):\n",
    "#        data=np.zeros((filesize,H,W), np.uint)\n",
    "#        label=np.zeros((filesize), np.uint)\n",
    "        if len(dirs)>0:\n",
    "            for d in dirs:\n",
    "                path1=path+'/'+d+'/*.png'\n",
    "                print(path1)\n",
    "                fi = glob.glob(path1)\n",
    "\n",
    "                for i,name in enumerate(fi):\n",
    "                    try:\n",
    "                        pathIn, finame = os.path.split(name) #pathIn = pathfile, finame=file.xxx\n",
    "                        fname=os.path.splitext(finame)[0] #fi=filename without .xxx\n",
    "                        n=np.fromfile(name,np.uint8)\n",
    "#                       img = cv2.imread(name,0) # read image file , 0=Grayscale\n",
    "                        img=cv2.imdecode(n,0)\n",
    "                        resized_img=cv2.resize(img,(H,W),interpolation=cv2.INTER_CUBIC)\n",
    "                        img = resized_img.astype(np.float32)\n",
    "                        img /= 255.0\n",
    "                        data.append(np.asarray(img))\n",
    "                        fileGT=pathIn+'/'+fname+'.gt.txt'\n",
    "\n",
    "                        with open(fileGT, \"r\", encoding=\"utf-8\") as f1:\n",
    "                            txt=f1.read()\n",
    "                            label.append(txt)\n",
    "#                            label.append(np.uint(cl_name.index(f1.read())))\n",
    "                    \n",
    "                        if i<3:\n",
    "                            plt.figure(figsize=(1, 1))\n",
    "                            plt.imshow(img, cmap='gray')\n",
    "                            print('Filename:%s\\nLabel: %s\\n' % (finame, txt))\n",
    "                            plt.show()\n",
    "                            \n",
    "                    except IOError as exc: #Not sure what error this is\n",
    "                        if exc.errno != errno.EISDIR:\n",
    "                            raise\n",
    "\n",
    "    return data, label\n",
    "\n",
    "# input image dimensions\n",
    "img_rows, img_cols = 64, 64\n",
    "data,label=loadImageFolder(path, img_cols, img_rows, letters)\n",
    "print(len(label))"
   ]
  },
  {
   "cell_type": "code",
   "execution_count": 108,
   "metadata": {},
   "outputs": [
    {
     "name": "stdout",
     "output_type": "stream",
     "text": [
      "358\n",
      "please wait processing...\n",
      "(358, 64, 64)\n",
      "['๔' '๙' '๑' '๗' '๗' '๒' '๙' '๘' '๖' '๐' '๖' '๖' '๗' '๕' '๖' '๑' '๖' '๘'\n",
      " '๕' '๗' '๖' '๓' '๓' '๑' '๕' '๓' '๖' '๐' '๑' '๗' '๙' '๘' '๐' '๔' '๙' '๐'\n",
      " '๒' '๐' '๒' '๙' '๒' '๙' '๕' '๘' '๒' '๙' '๔' '๔' '๔' '๑' '๕' '๖' '๕' '๙'\n",
      " '๙' '๒' '๙' '๐' '๘' '๙' '๙' '๕' '๓' '๙' '๖' '๙' '๔' '๐' '๗' '๔' '๔' '๐'\n",
      " '๗' '๐' '๔' '๗' '๗' '๐' '๓' '๑' '๐' '๑' '๕' '๕' '๔' '๙' '๕' '๔' '๕' '๗'\n",
      " '๐' '๖' '๕' '๙' '๘' '๒' '๑' '๓' '๕' '๐' '๓' '๑' '๑' '๙' '๗' '๑' '๐' '๔'\n",
      " '๖' '๘' '๓' '๗']\n"
     ]
    }
   ],
   "source": [
    "###================== creat Basic CNN\n",
    "def creatModel(model,input_shape):  \n",
    "    model.add(Conv2D(32, kernel_size=(3, 3), activation='relu', input_shape=input_shape))\n",
    "    model.add(MaxPooling2D(pool_size=(2, 2),strides=2))\n",
    "\n",
    "    model.add(Conv2D(64, (3, 3), activation='relu') )\n",
    "    model.add(MaxPooling2D(pool_size=(2, 2),strides=2))\n",
    "\n",
    "    #model.add(Dropout(0.25))\n",
    "    # fully connected dense layers\n",
    "    model.add(Flatten())\n",
    "    model.add(Dense(128, activation='relu'))\n",
    "    model.add(Dropout(0.4))\n",
    "    model.add(Dense(num_classes, activation='softmax'))\n",
    "    return model\n",
    "\n",
    "###=========================== main\n",
    "xdata_train, x_test, ydata_train, y_test = train_test_split(data, label, test_size=0.2)\n",
    "x_train, x_valid, y_train, y_valid = train_test_split(xdata_train, ydata_train, test_size=0.2)\n",
    "\n",
    "print(len(x_train))\n",
    "print('please wait processing...')\n",
    "x_train=np.asarray(x_train)\n",
    "x_valid=np.asarray(x_valid)\n",
    "x_test=np.asarray(x_test)\n",
    "y_train=np.asarray(y_train)\n",
    "y_valid=np.asarray(y_valid)\n",
    "y_test=np.asarray(y_test)\n",
    "print(x_train.shape)\n",
    "print(y_test)"
   ]
  },
  {
   "cell_type": "code",
   "execution_count": 109,
   "metadata": {},
   "outputs": [
    {
     "name": "stdout",
     "output_type": "stream",
     "text": [
      "(358, 64, 64, 1)\n",
      "[[0. 0. 0. ... 0. 0. 0.]\n",
      " [0. 0. 0. ... 0. 0. 1.]\n",
      " [0. 1. 0. ... 0. 0. 0.]\n",
      " ...\n",
      " [0. 0. 0. ... 0. 1. 0.]\n",
      " [0. 0. 0. ... 0. 0. 0.]\n",
      " [0. 0. 0. ... 1. 0. 0.]]\n",
      "(112, 10)\n"
     ]
    }
   ],
   "source": [
    "if K.image_data_format() == 'channels_first':\n",
    "    x_train = x_train.reshape(x_train.shape[0], 1, img_rows, img_cols)\n",
    "    x_valid = x_valid.reshape(x_valid.shape[0], 1, img_rows, img_cols)\n",
    "    x_test = x_test.reshape(x_test.shape[0], 1, img_rows, img_cols)\n",
    "    input_shape = (1, img_rows, img_cols)\n",
    "else:\n",
    "    x_train = x_train.reshape(x_train.shape[0], img_rows, img_cols, 1)\n",
    "    x_valid = x_valid.reshape(x_valid.shape[0], img_rows, img_cols, 1)\n",
    "    x_test = x_test.reshape(x_test.shape[0], img_rows, img_cols, 1)\n",
    "    input_shape = (img_rows, img_cols, 1)\n",
    "print(x_train.shape)\n",
    "# convert class vectors to binary class matrices\n",
    "y_train = keras.utils.to_categorical(y_train)\n",
    "y_valid = keras.utils.to_categorical(y_valid)\n",
    "y_test = keras.utils.to_categorical(y_test)\n",
    "print(y_test)\n",
    "\n",
    "print(y_test.shape)"
   ]
  },
  {
   "cell_type": "code",
   "execution_count": 110,
   "metadata": {},
   "outputs": [
    {
     "name": "stdout",
     "output_type": "stream",
     "text": [
      "_________________________________________________________________\n",
      "Layer (type)                 Output Shape              Param #   \n",
      "=================================================================\n",
      "conv2d_19 (Conv2D)           (None, 62, 62, 32)        320       \n",
      "_________________________________________________________________\n",
      "max_pooling2d_19 (MaxPooling (None, 31, 31, 32)        0         \n",
      "_________________________________________________________________\n",
      "conv2d_20 (Conv2D)           (None, 29, 29, 64)        18496     \n",
      "_________________________________________________________________\n",
      "max_pooling2d_20 (MaxPooling (None, 14, 14, 64)        0         \n",
      "_________________________________________________________________\n",
      "flatten_10 (Flatten)         (None, 12544)             0         \n",
      "_________________________________________________________________\n",
      "dense_19 (Dense)             (None, 128)               1605760   \n",
      "_________________________________________________________________\n",
      "dropout_10 (Dropout)         (None, 128)               0         \n",
      "_________________________________________________________________\n",
      "dense_20 (Dense)             (None, 10)                1290      \n",
      "=================================================================\n",
      "Total params: 1,625,866\n",
      "Trainable params: 1,625,866\n",
      "Non-trainable params: 0\n",
      "_________________________________________________________________\n"
     ]
    }
   ],
   "source": [
    "\n",
    "# fix random seed for reproducibility\n",
    "seed = 7\n",
    "np.random.seed(seed)\n",
    "### start session\n",
    "session_config = K.tf.ConfigProto(log_device_placement=False, allow_soft_placement=True)    \n",
    "# please do not use the totality of the GPU memory\n",
    "session_config.gpu_options.per_process_gpu_memory_fraction = 0.90\n",
    "\n",
    "### create model\n",
    "model = Sequential()\n",
    "model = creatModel(model,input_shape)\n",
    "# Compile model\n",
    "model.compile(loss=keras.losses.categorical_crossentropy,optimizer=keras.optimizers.Adam(),\n",
    "    metrics=['accuracy'])\n",
    "model.summary()\n",
    "newpath='C:/Python-DL/Result/'\n",
    "if not os.path.exists(newpath):\n",
    "    os.makedirs(newpath)\n",
    "#stop_here = EarlyStopping(monitor='val_loss',patience=5,verbose=0)\n",
    "#plot_model(model, to_file=newpath+'model_plot.png', show_shapes=True, show_layer_names=True)\n",
    "with open(newpath+'model_summary.txt', 'w') as f:\n",
    "    with redirect_stdout(f):\n",
    "        model.summary()\n",
    "\n",
    "fi=open(newpath+'evaluation.txt','w')"
   ]
  },
  {
   "cell_type": "code",
   "execution_count": 111,
   "metadata": {},
   "outputs": [
    {
     "name": "stdout",
     "output_type": "stream",
     "text": [
      "(358, 10)\n",
      "Train on 358 samples, validate on 90 samples\n",
      "Epoch 1/10\n",
      "358/358 [==============================] - 4s - loss: 2.1696 - acc: 0.2821 - val_loss: 1.2371 - val_acc: 0.6667\n",
      "Epoch 2/10\n",
      "358/358 [==============================] - 2s - loss: 0.9680 - acc: 0.6620 - val_loss: 0.6338 - val_acc: 0.7556\n",
      "Epoch 3/10\n",
      "358/358 [==============================] - 2s - loss: 0.5091 - acc: 0.8212 - val_loss: 0.4577 - val_acc: 0.8444\n",
      "Epoch 4/10\n",
      "358/358 [==============================] - 2s - loss: 0.3527 - acc: 0.8827 - val_loss: 0.4880 - val_acc: 0.8667\n",
      "Epoch 5/10\n",
      "358/358 [==============================] - 3s - loss: 0.2203 - acc: 0.9162 - val_loss: 0.4798 - val_acc: 0.8667\n",
      "Epoch 6/10\n",
      "358/358 [==============================] - 3s - loss: 0.1737 - acc: 0.9469 - val_loss: 0.3960 - val_acc: 0.8889\n",
      "Epoch 7/10\n",
      "358/358 [==============================] - 3s - loss: 0.1215 - acc: 0.9665 - val_loss: 0.5052 - val_acc: 0.8889\n",
      "Epoch 8/10\n",
      "358/358 [==============================] - 3s - loss: 0.0890 - acc: 0.9777 - val_loss: 0.5120 - val_acc: 0.8889\n",
      "Epoch 9/10\n",
      "358/358 [==============================] - 3s - loss: 0.0550 - acc: 0.9832 - val_loss: 0.4703 - val_acc: 0.8889\n",
      "Epoch 10/10\n",
      "358/358 [==============================] - 3s - loss: 0.0309 - acc: 0.9972 - val_loss: 0.5758 - val_acc: 0.8889\n",
      "training....\n",
      "ETA of each round=00:00:32\n",
      "\n",
      "Saved model01.h5 to disk\n",
      "90/90 [==============================] - 0s     \n",
      "\n",
      "loss: 57.58%\tacc: 88.89%\n",
      "Precision: 86.90%\n",
      "Recall: 86.61%\n",
      "F1: 86.10%\n",
      "Cohen_kappa_score: 85.03%\n"
     ]
    },
    {
     "ename": "NameError",
     "evalue": "name 'generateEvaluationGraph' is not defined",
     "output_type": "error",
     "traceback": [
      "\u001b[1;31m---------------------------------------------------------------------------\u001b[0m",
      "\u001b[1;31mNameError\u001b[0m                                 Traceback (most recent call last)",
      "\u001b[1;32m<ipython-input-111-1d3e8afaa799>\u001b[0m in \u001b[0;36m<module>\u001b[1;34m()\u001b[0m\n\u001b[0;32m     60\u001b[0m \u001b[1;33m\u001b[0m\u001b[0m\n\u001b[0;32m     61\u001b[0m \u001b[1;33m\u001b[0m\u001b[0m\n\u001b[1;32m---> 62\u001b[1;33m \u001b[0mfig\u001b[0m\u001b[1;33m=\u001b[0m\u001b[0mgenerateEvaluationGraph\u001b[0m\u001b[1;33m(\u001b[0m\u001b[0mhistory\u001b[0m\u001b[1;33m,\u001b[0m\u001b[1;36m1\u001b[0m\u001b[1;33m)\u001b[0m\u001b[1;33m\u001b[0m\u001b[0m\n\u001b[0m\u001b[0;32m     63\u001b[0m \u001b[1;32mtry\u001b[0m\u001b[1;33m:\u001b[0m\u001b[1;33m\u001b[0m\u001b[0m\n\u001b[0;32m     64\u001b[0m     \u001b[1;32mwith\u001b[0m \u001b[0mPdfPages\u001b[0m\u001b[1;33m(\u001b[0m\u001b[0mnewpath\u001b[0m\u001b[1;33m+\u001b[0m\u001b[1;34m'plot.pdf'\u001b[0m\u001b[1;33m)\u001b[0m \u001b[1;32mas\u001b[0m \u001b[0mpdf\u001b[0m\u001b[1;33m:\u001b[0m\u001b[1;33m\u001b[0m\u001b[0m\n",
      "\u001b[1;31mNameError\u001b[0m: name 'generateEvaluationGraph' is not defined"
     ]
    }
   ],
   "source": [
    "epochs = 10\n",
    "# in 1 epoch = number of training examples/batch_size\n",
    "batch_size =16 #3008, 2048 check with the number of train instances\n",
    "start=time.time()\n",
    "print(y_train.shape)\n",
    "# Fit the model\n",
    "history=model.fit(x_train, y_train,\n",
    "                  batch_size=batch_size,epochs=epochs, verbose=1,\n",
    "                  validation_data=(x_valid, y_valid))\n",
    "print(\"training....\")\n",
    "done = time.time()\n",
    "elapsed = done - start\n",
    "print(time.strftime(\"ETA of each round=%H:%M:%S\\n\", time.gmtime(elapsed)))\n",
    "# serialize weights to HDF5\n",
    "model.save(newpath+'model01.h5')\n",
    "print(\"Saved model01.h5 to disk\")\n",
    "\n",
    "# evaluate the model\n",
    "y_pred = model.predict(x_test)\n",
    " \n",
    "score = model.evaluate(x_valid, y_valid, verbose=1)\n",
    "loss=score[0]*100\n",
    "ac=score[1]*100\n",
    "print(\"\\n%s: %.2f%%\\t%s: %.2f%%\" % (model.metrics_names[0], loss, model.metrics_names[1], ac))\n",
    " \n",
    "y_true = np.argmax(y_test,axis=1)\n",
    "y_pr = np.argmax(y_pred,axis=1)\n",
    "\n",
    "# Precision\n",
    "pr=precision_score(y_true, y_pr, average=\"macro\")*100\n",
    "print(\"Precision: %.2f%%\" % pr)\n",
    "\n",
    "# Recall\n",
    "rc=recall_score(y_true, y_pr, average=\"macro\")*100\n",
    "print(\"Recall: %.2f%%\" % rc)\n",
    "\n",
    "# F1 score\n",
    "f1=f1_score(y_true, y_pr, average=\"macro\")*100\n",
    "print(\"F1: %.2f%%\" % f1)\n",
    "\n",
    "# Cohen's kappa\n",
    "kp=cohen_kappa_score(y_true, y_pr)*100\n",
    "print(\"Cohen_kappa_score: %.2f%%\" % kp)\n",
    "\n",
    "### Confusion matrix\n",
    "#    cf=confusion_matrix(y_true, y_pr, range(0,num_classes-1) )\n",
    "#    np.set_printoptions(precision=2)\n",
    "\n",
    "#    plt.figure()\n",
    "#    fig1 = plt.gcf()\n",
    "#    fig1.set_size_inches(32, 32)\n",
    "#    plot_confusion_matrix(cf, classes=class_names,\n",
    "#                      title='Confusion matrix, without normalization',\n",
    "#                      cmap=plt.cm.cool)\n",
    "#    try:\n",
    "#        with PdfPages(newpath+'confuse%d.pdf'%i) as pdf1:\n",
    "#            pdf.savefig(fig1)\n",
    "#    except ValueError:\n",
    "#        print('error save confuse%d.pdf'%i)\n",
    "\n",
    "\n",
    "fig=generateEvaluationGraph(history,1)\n",
    "try:\n",
    "    with PdfPages(newpath+'plot.pdf') as pdf:\n",
    "        pdf.savefig(fig)\n",
    "except ValueError:\n",
    "    print('error save plot.pdf')"
   ]
  },
  {
   "cell_type": "code",
   "execution_count": null,
   "metadata": {},
   "outputs": [],
   "source": []
  }
 ],
 "metadata": {
  "kernelspec": {
   "display_name": "Python 3",
   "language": "python",
   "name": "python3"
  },
  "language_info": {
   "codemirror_mode": {
    "name": "ipython",
    "version": 3
   },
   "file_extension": ".py",
   "mimetype": "text/x-python",
   "name": "python",
   "nbconvert_exporter": "python",
   "pygments_lexer": "ipython3",
   "version": "3.5.4"
  }
 },
 "nbformat": 4,
 "nbformat_minor": 2
}
