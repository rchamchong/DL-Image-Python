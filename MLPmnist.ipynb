{
 "cells": [
  {
   "cell_type": "markdown",
   "metadata": {},
   "source": [
    "# Using Keras with backend TensorFlow"
   ]
  },
  {
   "cell_type": "raw",
   "metadata": {},
   "source": [
    "Loading the MNIST dataset in Keras\n",
    "from keras.datasets import mnist\n",
    "mnist.load_data()\n",
    "\n",
    "ข้อมูลสำหรับการ learning จะต้องแบ่งเป็น training set, test set (90:10, 80:20, 70:30, 60:40)\n",
    "หรือ training set, validation set, test set (80:10:10, 70:15:15, 60:20:20)\n",
    "\n",
    "function load_data ของ mnist นี้จะจัดการสร้างข้อมูลเป็น X_train (input unit ชุด train) และ y_train (label ชุด train)\n",
    "X_test (input unit ของชุด test) และ y_test (label ชุด test)"
   ]
  },
  {
   "cell_type": "code",
   "execution_count": 1,
   "metadata": {},
   "outputs": [
    {
     "data": {
      "text/plain": [
       "<matplotlib.image.AxesImage at 0x1a97f2cdd30>"
      ]
     },
     "execution_count": 1,
     "metadata": {},
     "output_type": "execute_result"
    },
    {
     "data": {
      "image/png": "[encoded data removed]",
      "text/plain": [
       "<Figure size 432x288 with 4 Axes>"
      ]
     },
     "metadata": {},
     "output_type": "display_data"
    }
   ],
   "source": [
    "%matplotlib inline\n",
    "# Plot ad hoc mnist instances\n",
    "from keras.datasets import mnist\n",
    "import matplotlib.pyplot as plt\n",
    "# load (downloaded if needed) the MNIST dataset\n",
    "# the data, split between train and test sets\n",
    "(X_train, y_train), (X_test, y_test) = mnist.load_data()\n",
    "\n",
    "# plot 4 images as gray scale (มี 1 channel มีค่าแต่ละ pixel 0-255)\n",
    "plt.subplot(221)\n",
    "plt.imshow(X_train[0], cmap=plt.get_cmap('gray'))\n",
    "plt.subplot(222)\n",
    "plt.imshow(X_train[1], cmap=plt.get_cmap('gray'))\n",
    "plt.subplot(223)\n",
    "plt.imshow(X_train[2], cmap=plt.get_cmap('gray'))\n",
    "plt.subplot(224)\n",
    "plt.imshow(X_train[3], cmap=plt.get_cmap('gray'))\n",
    "# show the plot"
   ]
  },
  {
   "cell_type": "raw",
   "metadata": {},
   "source": [
    "Generate model mnist with Multi-Layer Perceptrons(MLP)\n",
    "https://www.learnopencv.com/neural-networks-a-30000-feet-view-for-beginners/\n",
    "https://www.learnopencv.com/understanding-feedforward-neural-networks/"
   ]
  },
  {
   "cell_type": "code",
   "execution_count": 2,
   "metadata": {},
   "outputs": [],
   "source": [
    "# import class function\n",
    "import numpy as np\n",
    "import keras\n",
    "from keras.models import Sequential\n",
    "from keras.layers import Dense, Dropout\n",
    "from keras.optimizers import RMSprop\n",
    "\n",
    "epochs = 20 \n",
    "batch_size = 128 \n"
   ]
  },
  {
   "cell_type": "raw",
   "metadata": {},
   "source": [
    "keras.models\n",
    "เป็น class ที่ใช้ในการสร้าง models ว่าต้องการ model แบบไหนให้กับ network นั้น ในที่นี้กำหนด model เป็น Sequential \n",
    "ซึ่งจะสร้างชั้น model เป็นแบบ linear stack ที่เชื่อมต่อกันแบบ stack ของแต่ละ layer โดยวิธีง่ายที่สุดโดยการกำหนด constructure ให้กับ model\n",
    "\n",
    "keras.layers\n",
    "เป็น class ที่ใช้ในการสร้าง layer หรือชั้นแต่ละชั้นของ model ในที่นี้เรียกใช้ Dense และ Dropout\n",
    "\n",
    "keras.optimizers\n",
    "เป็นตัวที่กำหนดวิธีการ optimize เช่นการ optimize ด้วย relu, gsd, rmsprop, adam\n",
    "\n",
    "epochs คือ จำนวนรอบทั้งหมดในการ train\n",
    "\n",
    "batch_size เป็นจำนวนของข้อมูลที่ดำเนินการ train และ update ค่า error loss ที่เกิดขึ้นระหว่างการ train ทั้งนี้ batch_size ที่เหมาะสมจะขึ้นกับขนาดข้อมูล หากข้อมูลมีจำนวนน้อย batch_size ควรมีขนาดเล็ก หากข้อมูลขนาดใหญ่ก็สามารถกำหนด batch_size ให้มีขนาดใหญ่ขึ้นได้ แต่ทั้งนี้ก็ขึ้นกับการทดลอง\n",
    "\n",
    "ถ้าข้อมูล 1 ชุด มี 2000 ตัว และมีค่า batch_size=100 ดังนั้น ทุกๆ 100 ค่าจะมีการ update ค่า error loss 1 ครั้ง ก็จะได้ว่าใน 1 epoch มีการ update ค่า error จากการ train ทั้งหมด 20 ครั้ง\n",
    "data=2000 instances\n",
    "batch_size=100\n",
    "1 epoch=20 update validataion loss"
   ]
  },
  {
   "cell_type": "code",
   "execution_count": 3,
   "metadata": {},
   "outputs": [
    {
     "name": "stdout",
     "output_type": "stream",
     "text": [
      "X_train shape: (60000, 784)\n",
      "60000 train samples\n",
      "10000 test samples\n",
      "A number of classes: 10\n"
     ]
    }
   ],
   "source": [
    "# fix random seed for reproducibility\n",
    "#seed = 7\n",
    "#np.random.seed(seed)\n",
    "(X_train, y_train), (X_test, y_test) = mnist.load_data()\n",
    "# flatten 28*28 images to a 784 vector (pixels) for each image\n",
    "# X_train.shape[1] = image_width, X_train.shape[2] = image_height\n",
    "num_pixels = X_train.shape[1] * X_train.shape[2]\n",
    "#print(X_train.shape[1],'*', X_train.shape[2], '=',num_pixels)\n",
    "X_train = X_train.reshape(X_train.shape[0], num_pixels).astype('float32')\n",
    "X_test = X_test.reshape(X_test.shape[0], num_pixels).astype('float32')\n",
    "\n",
    "print('X_train shape:', X_train.shape)\n",
    "print(X_train.shape[0], 'train samples')\n",
    "print(X_test.shape[0], 'test samples')\n",
    "\n",
    "# normalize inputs from 0-255 to 0-1\n",
    "X_train = X_train / 255\n",
    "X_test = X_test / 255\n",
    "\n",
    "# one hot encode outputs\n",
    "# convert class vectors to binary class matrices\n",
    "y_train = keras.utils.to_categorical(y_train)\n",
    "y_test = keras.utils.to_categorical(y_test)\n",
    "\n",
    "num_classes = y_test.shape[1]  # จำนวนตัวเลข 10 classes\n",
    "print('A number of classes:', num_classes)"
   ]
  },
  {
   "cell_type": "raw",
   "metadata": {},
   "source": [
    "ให้ reshape array list ซึ่งเป็นคำสั่งใน numpy โดยปรับ array list ของ X_train, X_test ให้เป็น vector ของ pixel ในแต่ละ instances โดยกำหนดให้ค่าเป็น float32\n",
    "และให้ normalize ค่า input ให้อยู่ในช่วง 0-1 โดยการหารด้วย 255"
   ]
  },
  {
   "cell_type": "code",
   "execution_count": 4,
   "metadata": {},
   "outputs": [],
   "source": [
    "# define model\n",
    "def mlp_model1():\n",
    "    # create model\n",
    "    model = Sequential()\n",
    "    model.add(Dense(512, activation='relu', input_shape=(num_pixels,)))\n",
    "#    model.add(Dropout(0.2))\n",
    "    model.add(Dense(512, activation='relu'))\n",
    "#    model.add(Dropout(0.2))\n",
    "    model.add(Dense(num_classes, activation='softmax'))\n",
    "    # print model\n",
    "    model.summary()\n",
    "    # Compile model\n",
    "    model.compile(loss='categorical_crossentropy',optimizer=RMSprop(),metrics=['accuracy'])\n",
    "    return model\n",
    "\n",
    "def mlp_model2():\n",
    "    model = Sequential()\n",
    "    model.add(Dense(512, input_dim=num_pixels, kernel_initializer='normal', activation='relu'))\n",
    "    model.add(Dense(num_classes, kernel_initializer='normal', activation='softmax'))\n",
    "    # print model\n",
    "    model.summary()\n",
    "    # Compile model\n",
    "    model.compile(loss='categorical_crossentropy', optimizer='adam', metrics=['accuracy'])\n",
    "    return model"
   ]
  },
  {
   "cell_type": "raw",
   "metadata": {},
   "source": [
    "model = Sequential()\n",
    "เป็นการเรียน constructure model เป็นแบบ Sequential คือให้เป็นแบบ linear stack\n",
    "จากนั้นทำการ add network unit ให้กับแต่ละชั้นด้วยคำสั่ง Dense เพื่อเชื่อมต่อ neural ภายใน\n",
    "\n",
    "model.add(Dense(512, activation='relu', input_shape=(num_pixels,)))\n",
    "กำหนดใช้ input unit มีขนาดตาม num_pixels (28*28) และมี hidden node=512 โดยใช้ค่า activation เป็น 'relu'\n",
    "\n",
    "model.add(Dense(num_classes, activation='softmax'))\n",
    "ชั้นนี้เป็นชั้น softmax หรือ fully connection ซึ่งเป็นชั้นที่มีการ predict ค่า output ออกมาซึ่งเป็นค่า probability\n",
    "\n",
    "model.summary()\n",
    "เป็นคำสั่งแสดงโครงสร้างของ model ในแต่ละชั้นและ จำนวน parameter\n",
    "\n",
    "model.compile(loss='categorical_crossentropy',optimizer=RMSprop(),metrics=['accuracy'])\n",
    "เป็นการ compile model ที่สร้างขึ้น โดยกำหนดการคำนวณหาค่า loss error ที่เกิดขึ้นซึ่งเป็น Logarithmic loss จาก loss function (called categorical_crossentropy in Keras) และใช้ optimizer เป็น RMSprop ซึ่งตัววัดประสิทธิภาพการ learn \n",
    "\n",
    "จากนั้นเป็นการ fit model โดยส่งค่า input และ label เข้าไป และให้ค่า validation set=test set , verbose=1 คือให้แสดง progress bar ระหว่าง learn แต่ละ batch_size\n",
    "\n",
    "การ evaluate เป็นการประเมินประสิทธิภาพ test set"
   ]
  },
  {
   "cell_type": "code",
   "execution_count": 8,
   "metadata": {
    "scrolled": true
   },
   "outputs": [
    {
     "name": "stdout",
     "output_type": "stream",
     "text": [
      "_________________________________________________________________\n",
      "Layer (type)                 Output Shape              Param #   \n",
      "=================================================================\n",
      "dense_10 (Dense)             (None, 512)               401920    \n",
      "_________________________________________________________________\n",
      "dense_11 (Dense)             (None, 512)               262656    \n",
      "_________________________________________________________________\n",
      "dense_12 (Dense)             (None, 10)                5130      \n",
      "=================================================================\n",
      "Total params: 669,706\n",
      "Trainable params: 669,706\n",
      "Non-trainable params: 0\n",
      "_________________________________________________________________\n",
      "Train on 60000 samples, validate on 10000 samples\n",
      "Epoch 1/20\n",
      "60000/60000 [==============================] - 2s 28us/step - loss: 0.2190 - acc: 0.9312 - val_loss: 0.0915 - val_acc: 0.9701\n",
      "Epoch 2/20\n",
      "60000/60000 [==============================] - 2s 25us/step - loss: 0.0799 - acc: 0.9759 - val_loss: 0.0996 - val_acc: 0.9703\n",
      "Epoch 3/20\n",
      "60000/60000 [==============================] - 2s 25us/step - loss: 0.0533 - acc: 0.9833 - val_loss: 0.0773 - val_acc: 0.9774\n",
      "Epoch 4/20\n",
      "60000/60000 [==============================] - 2s 25us/step - loss: 0.0377 - acc: 0.9884 - val_loss: 0.0710 - val_acc: 0.9810\n",
      "Epoch 5/20\n",
      "60000/60000 [==============================] - 2s 25us/step - loss: 0.0291 - acc: 0.9906 - val_loss: 0.0885 - val_acc: 0.9774\n",
      "Epoch 6/20\n",
      "60000/60000 [==============================] - 2s 25us/step - loss: 0.0232 - acc: 0.9924 - val_loss: 0.0891 - val_acc: 0.9817\n",
      "Epoch 7/20\n",
      "60000/60000 [==============================] - 2s 25us/step - loss: 0.0176 - acc: 0.9946 - val_loss: 0.1130 - val_acc: 0.9757\n",
      "Epoch 8/20\n",
      "60000/60000 [==============================] - 2s 25us/step - loss: 0.0156 - acc: 0.9951 - val_loss: 0.0978 - val_acc: 0.9811\n",
      "Epoch 9/20\n",
      "60000/60000 [==============================] - 2s 25us/step - loss: 0.0130 - acc: 0.9960 - val_loss: 0.0898 - val_acc: 0.9832\n",
      "Epoch 10/20\n",
      "60000/60000 [==============================] - 2s 25us/step - loss: 0.0119 - acc: 0.9965 - val_loss: 0.1107 - val_acc: 0.9827\n",
      "Epoch 11/20\n",
      "60000/60000 [==============================] - 2s 25us/step - loss: 0.0091 - acc: 0.9971 - val_loss: 0.1095 - val_acc: 0.9839\n",
      "Epoch 12/20\n",
      "60000/60000 [==============================] - 2s 25us/step - loss: 0.0089 - acc: 0.9976 - val_loss: 0.1185 - val_acc: 0.9820\n",
      "Epoch 13/20\n",
      "60000/60000 [==============================] - 2s 25us/step - loss: 0.0076 - acc: 0.9978 - val_loss: 0.1386 - val_acc: 0.9793\n",
      "Epoch 14/20\n",
      "60000/60000 [==============================] - 2s 25us/step - loss: 0.0078 - acc: 0.9978 - val_loss: 0.1404 - val_acc: 0.9797\n",
      "Epoch 15/20\n",
      "60000/60000 [==============================] - 2s 25us/step - loss: 0.0067 - acc: 0.9981 - val_loss: 0.1346 - val_acc: 0.9805\n",
      "Epoch 16/20\n",
      "60000/60000 [==============================] - 2s 26us/step - loss: 0.0060 - acc: 0.9986 - val_loss: 0.1433 - val_acc: 0.9815\n",
      "Epoch 17/20\n",
      "60000/60000 [==============================] - 2s 25us/step - loss: 0.0059 - acc: 0.9982 - val_loss: 0.1440 - val_acc: 0.9820\n",
      "Epoch 18/20\n",
      "60000/60000 [==============================] - 2s 25us/step - loss: 0.0063 - acc: 0.9983 - val_loss: 0.1484 - val_acc: 0.9825\n",
      "Epoch 19/20\n",
      "60000/60000 [==============================] - 2s 25us/step - loss: 0.0061 - acc: 0.9985 - val_loss: 0.1476 - val_acc: 0.9819\n",
      "Epoch 20/20\n",
      "60000/60000 [==============================] - 1s 25us/step - loss: 0.0064 - acc: 0.9984 - val_loss: 0.1435 - val_acc: 0.9815\n",
      "MLP Error: 1.85%\n"
     ]
    }
   ],
   "source": [
    "model = mlp_model1()\n",
    "# Fit the model\n",
    "model.fit(X_train, y_train, validation_data=(X_test, y_test), epochs=epochs, batch_size=batch_size, verbose=1)\n",
    "# Final evaluation of the model\n",
    "scores = model.evaluate(X_test, y_test, verbose=2)\n",
    "print('Test loss: %.2f%%' % (100-scores[0]*100))\n",
    "print('Test accuracy: %.2f%%' % (100-scores[1]*100))"
   ]
  },
  {
   "cell_type": "code",
   "execution_count": null,
   "metadata": {},
   "outputs": [],
   "source": []
  }
 ],
 "metadata": {
  "kernelspec": {
   "display_name": "Python 3",
   "language": "python",
   "name": "python3"
  },
  "language_info": {
   "codemirror_mode": {
    "name": "ipython",
    "version": 3
   },
   "file_extension": ".py",
   "mimetype": "text/x-python",
   "name": "python",
   "nbconvert_exporter": "python",
   "pygments_lexer": "ipython3",
   "version": "3.6.4"
  }
 },
 "nbformat": 4,
 "nbformat_minor": 2
}
